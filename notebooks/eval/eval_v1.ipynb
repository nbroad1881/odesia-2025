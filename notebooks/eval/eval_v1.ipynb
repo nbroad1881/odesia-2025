{
 "cells": [
  {
   "cell_type": "code",
   "execution_count": 6,
   "metadata": {},
   "outputs": [],
   "source": [
    "import os\n",
    "\n",
    "from peft import PeftModel\n",
    "from transformers import AutoTokenizer, DataCollatorWithPadding, AutoModelForCausalLM\n",
    "from datasets import load_dataset\n",
    "from torch.utils.data import DataLoader\n",
    "from tqdm import tqdm\n",
    "import torch\n",
    "\n",
    "from dotenv import load_dotenv\n",
    "\n",
    "loaded = load_dotenv(\"../../.env\", override=True)\n",
    "\n",
    "if not loaded:\n",
    "    raise ValueError(\"No .env file found\")\n"
   ]
  },
  {
   "cell_type": "code",
   "execution_count": 61,
   "metadata": {},
   "outputs": [],
   "source": [
    "import pickle\n",
    "from datasets import load_dataset\n",
    "\n",
    "with open(\"../../eval/preds.pkl\", \"rb\") as f:\n",
    "    preds = pickle.load(f)\n",
    "\n",
    "\n",
    "ds = load_dataset(\"nbroad/odesia-combined-v1\", \"es\", split=\"val\", token=os.getenv(\"HF_READ\"))"
   ]
  },
  {
   "cell_type": "code",
   "execution_count": 62,
   "metadata": {},
   "outputs": [],
   "source": [
    "tokenizer = AutoTokenizer.from_pretrained(\n",
    "    \"../../eval/f0utp5v4\",\n",
    "    token=os.getenv(\"HF_READ\"),\n",
    ")"
   ]
  },
  {
   "cell_type": "code",
   "execution_count": 63,
   "metadata": {},
   "outputs": [
    {
     "data": {
      "text/plain": [
       "['déficits en la memoria operativa\\nTAB\\nTAB\\nTAB\\nTAB\\nTAB\\nTAB\\nTAB\\nTAB\\nTAB\\nTAB\\nTAB\\nTAB\\nTAB\\nTAB']"
      ]
     },
     "execution_count": 63,
     "metadata": {},
     "output_type": "execute_result"
    }
   ],
   "source": [
    "tokenizer.decode(preds[1]).split(\"[/INST]\")[-1:]"
   ]
  },
  {
   "cell_type": "code",
   "execution_count": 64,
   "metadata": {},
   "outputs": [],
   "source": [
    "gt = ds['response']"
   ]
  },
  {
   "cell_type": "code",
   "execution_count": 65,
   "metadata": {},
   "outputs": [
    {
     "name": "stdout",
     "output_type": "stream",
     "text": [
      "P not propaganda\n",
      "['P not propaganda</s>']\n"
     ]
    }
   ],
   "source": [
    "i += 1000\n",
    "\n",
    "print(gt[i])\n",
    "print(tokenizer.decode(preds[i]).split(\"[/INST]\")[-1:])"
   ]
  },
  {
   "cell_type": "code",
   "execution_count": null,
   "metadata": {},
   "outputs": [],
   "source": []
  }
 ],
 "metadata": {
  "kernelspec": {
   "display_name": "Python 3",
   "language": "python",
   "name": "python3"
  },
  "language_info": {
   "codemirror_mode": {
    "name": "ipython",
    "version": 3
   },
   "file_extension": ".py",
   "mimetype": "text/x-python",
   "name": "python",
   "nbconvert_exporter": "python",
   "pygments_lexer": "ipython3",
   "version": "3.10.13"
  }
 },
 "nbformat": 4,
 "nbformat_minor": 2
}
