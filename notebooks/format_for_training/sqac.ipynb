{
 "cells": [
  {
   "cell_type": "code",
   "execution_count": 3,
   "metadata": {},
   "outputs": [
    {
     "name": "stdout",
     "output_type": "stream",
     "text": [
      "Loaded .env: True\n"
     ]
    }
   ],
   "source": [
    "import os\n",
    "import json\n",
    "import random\n",
    "from pathlib import Path\n",
    "\n",
    "from dotenv import load_dotenv\n",
    "import pandas as pd\n",
    "from datasets import Dataset\n",
    "\n",
    "from prompts import prompt_t1_sqac\n",
    "\n",
    "print(\"Loaded .env:\", load_dotenv(\"../../.env\", override=True))\n",
    "data_dir = Path(os.environ[\"PROJECT_DIR\"]) / \"data\" / \"host\" / \"sqac_squad_2024\"\n",
    "\n",
    "SPLIT = \"test\"\n",
    "LANG = \"es\""
   ]
  },
  {
   "cell_type": "code",
   "execution_count": 4,
   "metadata": {},
   "outputs": [
    {
     "name": "stdout",
     "output_type": "stream",
     "text": [
      "1145\n"
     ]
    },
    {
     "data": {
      "application/vnd.jupyter.widget-view+json": {
       "model_id": "bef6f190c3e140aea4d65ba23e67e4f4",
       "version_major": 2,
       "version_minor": 0
      },
      "text/plain": [
       "Map:   0%|          | 0/1145 [00:00<?, ? examples/s]"
      ]
     },
     "metadata": {},
     "output_type": "display_data"
    }
   ],
   "source": [
    "t1 = json.load(open(data_dir / f\"{SPLIT}_t1_{LANG}.json\"))\n",
    "\n",
    "print(len(t1))\n",
    "\n",
    "\n",
    "def format(x):\n",
    "\n",
    "    if \"value\" not in x:\n",
    "        response = \"\"\n",
    "    else:\n",
    "        response = x[\"value\"]\n",
    "\n",
    "    return {\n",
    "        \"text\": prompt_t1_sqac.format(\n",
    "            title=x[\"title\"],\n",
    "            context=x['context'], \n",
    "            question=x[\"question\"]),\n",
    "        \"response\": response,\n",
    "    }\n",
    "\n",
    "ds = Dataset.from_list(t1)\n",
    "\n",
    "ds = ds.map(format)"
   ]
  },
  {
   "cell_type": "code",
   "execution_count": 5,
   "metadata": {},
   "outputs": [
    {
     "name": "stdout",
     "output_type": "stream",
     "text": [
      "{'id': '96167010-0205-46a6b96cdc0ce951d', 'title': 'Diseñan una proteína artificial capaz de filtrar y degradar plásticos', 'context': 'Un equipo de científicos del Instituto de Catálisis y Petroleoquímica del CSIC (ICP-CSIC), junto con grupos delBarcelona Supercomputing Center-Centro Nacional de Supercomputación(BSC-CNS) y de la Universidad Complutense de Madrid (UCM), han desarrollado unas proteínas artificiales capaces de degradar microplásticos de tereftalato de polietileno o PET -uno de los plásticos más empleados, presente en muchos envases y botellas- y reducirlos a sus componentes esenciales, lo que permitiría su descomposición o su reciclaje. Para ello han usado una proteína de defensa de la anémona de fresa (Actinia fragacea), a la que le han añadido la nueva función tras un diseño mediante métodos computacionales.Los resultados aparecen publicados en la revistaNature Catalysis.Cada año se producen cerca de 400 millones de toneladas de plásticos en el mundo, una cifra que aumenta alrededor de un 4%anualmente. Las emisiones que resultan de su fabricación son uno de los elementos que contribuyen al cambio climático, y su presencia ubicua en los ecosistemas conlleva graves problemas ecológicos.Con el tiempo, el PET o tereftalato de polietilenose va desgastando formando partículas cada vez más pequeñas —los llamados microplásticos—, lo que agrava los problemas medioambientales. El PET supone ya más del 10% de la producción global de plásticos y su reciclaje es escaso y poco eficiente.“Lo que hacemos es algo así como añadirle nuevos complementos a una herramienta multiusos para dotarla de otras funcionalidades diferentes”, explicaVíctor Guallar, profesor ICREA en el BSC-CNS y uno de los responsables del trabajo. Esos complementos consisten en apenas tres aminoácidos que funcionan como tijeras capaces de cortar pequeñas partículas de PET. En este caso se han añadido a una proteína de la anémonaActinia fragacea,que carece en principio de esta función y que en la naturaleza “funciona como un taladro celular, abriendo poros y actuando como mecanismo de defensa”, explica el investigador.El aprendizaje automático y los súperordenadores usados en esta ingeniería de proteínas permiten “predecir dónde se van a unir las partículas y dónde debemos colocar los nuevos aminoácidos para que puedan ejercer su acción”, resumeGuallar. La geometría resultante es bastante similar a la de la enzima PETasa de la bacteriaIdionella sakaiensis,capaz de degradar este tipo de plástico ydescubierta en 2016 en una planta de reciclaje de envases en Japón.Los resultados indican que la nueva proteína es capaz de degradar micro y nanoplásticos de PET con “una eficacia entre 5 y 10 veces superior a la de las PETasas actualmente en el mercado y a temperatura ambiente”, explicaGuallar.Otras aproximaciones precisan actuar a temperaturas superiores a 70°C para hacer el plástico más moldeable, lo que conlleva altas emisiones de CO2y limita su aplicabilidad. Además, la estructura de la proteína en forma de poros se escogió porque permite el paso de agua por su interior y porque puede ser anclada a membranas similares a las que se usan en plantas de desalinización. Esto facilitaría su uso en forma de filtros, que “podrían ser usados en depuradoras para degradar esas partículas que no vemos, pero que son muy difíciles de eliminar y que ingerimos”, destacaManuel Ferrer, investigador del CSIC en el ICP-CSIC y otro de los coordinadores del estudio.Otra ventaja de la nueva proteína es que se diseñaron dos variantes, según los lugares de colocación de los nuevos aminoácidos. El resultado es que cada una de ellas da lugar a diferentes productos. “Una variante descompone las partículas de PET de forma más exhaustiva, por lo que podría usarse para su degradación en plantas depuradoras. La otra da lugar a los componentes iniciales que se necesitan para el reciclaje. De esta forma podemos depurar o reciclar, según las necesidades”, explicaLaura FernándezLópez, que realiza su tesis doctoral en el Instituto de Catálisis y Petroleoquímica del CSIC (ICP-CSIC).El diseño actual ya podría tener aplicaciones, según los investigadores, pero la flexibilidad de la proteína—a la que comparan con una “herramienta multiusos”—permitiría añadir y probar nuevos elementos y combinaciones, explica la Dra. Sara García Linares, de la Universidad Complutense de Madrid. “Lo que buscamos es aunar el potencial de las proteínas que nos da la naturaleza y el aprendizaje automático con súperordenadores para producir nuevos diseños que nos permitan alcanzar un entorno saludable de cero plásticos”, resumeFerrer.“Los métodos computacionales y la biotecnología nos pueden permitir encontrar soluciones a muchos de los problemas ecológicos que nos afectan”, concluyeGuallar.', 'question': '¿Se trata de un componente impermeable?', 'test_case': 'SQAC_SQUAD_2024', 'text': 'You are an excellent assistant at answering questions based on Spanish texts. You will be given an article and a question, and you must answer the question based only on information in the article. The response should be extracted from the context verbatim.\\n\\nAfter thoroughly reading the article and analyzing the question, respond with the answer.\\n\\nTitle:\\nDiseñan una proteína artificial capaz de filtrar y degradar plásticos\\n\\nContext:\\nUn equipo de científicos del Instituto de Catálisis y Petroleoquímica del CSIC (ICP-CSIC), junto con grupos delBarcelona Supercomputing Center-Centro Nacional de Supercomputación(BSC-CNS) y de la Universidad Complutense de Madrid (UCM), han desarrollado unas proteínas artificiales capaces de degradar microplásticos de tereftalato de polietileno o PET -uno de los plásticos más empleados, presente en muchos envases y botellas- y reducirlos a sus componentes esenciales, lo que permitiría su descomposición o su reciclaje. Para ello han usado una proteína de defensa de la anémona de fresa (Actinia fragacea), a la que le han añadido la nueva función tras un diseño mediante métodos computacionales.Los resultados aparecen publicados en la revistaNature Catalysis.Cada año se producen cerca de 400 millones de toneladas de plásticos en el mundo, una cifra que aumenta alrededor de un 4%anualmente. Las emisiones que resultan de su fabricación son uno de los elementos que contribuyen al cambio climático, y su presencia ubicua en los ecosistemas conlleva graves problemas ecológicos.Con el tiempo, el PET o tereftalato de polietilenose va desgastando formando partículas cada vez más pequeñas —los llamados microplásticos—, lo que agrava los problemas medioambientales. El PET supone ya más del 10% de la producción global de plásticos y su reciclaje es escaso y poco eficiente.“Lo que hacemos es algo así como añadirle nuevos complementos a una herramienta multiusos para dotarla de otras funcionalidades diferentes”, explicaVíctor Guallar, profesor ICREA en el BSC-CNS y uno de los responsables del trabajo. Esos complementos consisten en apenas tres aminoácidos que funcionan como tijeras capaces de cortar pequeñas partículas de PET. En este caso se han añadido a una proteína de la anémonaActinia fragacea,que carece en principio de esta función y que en la naturaleza “funciona como un taladro celular, abriendo poros y actuando como mecanismo de defensa”, explica el investigador.El aprendizaje automático y los súperordenadores usados en esta ingeniería de proteínas permiten “predecir dónde se van a unir las partículas y dónde debemos colocar los nuevos aminoácidos para que puedan ejercer su acción”, resumeGuallar. La geometría resultante es bastante similar a la de la enzima PETasa de la bacteriaIdionella sakaiensis,capaz de degradar este tipo de plástico ydescubierta en 2016 en una planta de reciclaje de envases en Japón.Los resultados indican que la nueva proteína es capaz de degradar micro y nanoplásticos de PET con “una eficacia entre 5 y 10 veces superior a la de las PETasas actualmente en el mercado y a temperatura ambiente”, explicaGuallar.Otras aproximaciones precisan actuar a temperaturas superiores a 70°C para hacer el plástico más moldeable, lo que conlleva altas emisiones de CO2y limita su aplicabilidad. Además, la estructura de la proteína en forma de poros se escogió porque permite el paso de agua por su interior y porque puede ser anclada a membranas similares a las que se usan en plantas de desalinización. Esto facilitaría su uso en forma de filtros, que “podrían ser usados en depuradoras para degradar esas partículas que no vemos, pero que son muy difíciles de eliminar y que ingerimos”, destacaManuel Ferrer, investigador del CSIC en el ICP-CSIC y otro de los coordinadores del estudio.Otra ventaja de la nueva proteína es que se diseñaron dos variantes, según los lugares de colocación de los nuevos aminoácidos. El resultado es que cada una de ellas da lugar a diferentes productos. “Una variante descompone las partículas de PET de forma más exhaustiva, por lo que podría usarse para su degradación en plantas depuradoras. La otra da lugar a los componentes iniciales que se necesitan para el reciclaje. De esta forma podemos depurar o reciclar, según las necesidades”, explicaLaura FernándezLópez, que realiza su tesis doctoral en el Instituto de Catálisis y Petroleoquímica del CSIC (ICP-CSIC).El diseño actual ya podría tener aplicaciones, según los investigadores, pero la flexibilidad de la proteína—a la que comparan con una “herramienta multiusos”—permitiría añadir y probar nuevos elementos y combinaciones, explica la Dra. Sara García Linares, de la Universidad Complutense de Madrid. “Lo que buscamos es aunar el potencial de las proteínas que nos da la naturaleza y el aprendizaje automático con súperordenadores para producir nuevos diseños que nos permitan alcanzar un entorno saludable de cero plásticos”, resumeFerrer.“Los métodos computacionales y la biotecnología nos pueden permitir encontrar soluciones a muchos de los problemas ecológicos que nos afectan”, concluyeGuallar.\\n\\nQuestion:\\n¿Se trata de un componente impermeable?\\n', 'response': ''}\n"
     ]
    }
   ],
   "source": [
    "print(random.choice(ds))"
   ]
  },
  {
   "cell_type": "code",
   "execution_count": 6,
   "metadata": {},
   "outputs": [
    {
     "data": {
      "application/vnd.jupyter.widget-view+json": {
       "model_id": "42935b86af424a3b9772a593a5367a70",
       "version_major": 2,
       "version_minor": 0
      },
      "text/plain": [
       "Creating parquet from Arrow format:   0%|          | 0/2 [00:00<?, ?ba/s]"
      ]
     },
     "metadata": {},
     "output_type": "display_data"
    },
    {
     "data": {
      "text/plain": [
       "7135371"
      ]
     },
     "execution_count": 6,
     "metadata": {},
     "output_type": "execute_result"
    }
   ],
   "source": [
    "final_cols = [\"text\", \"response\"]\n",
    "\n",
    "ds.remove_columns([x for x in ds.column_names if x not in final_cols]).to_parquet(data_dir / f\"{SPLIT}_t1_{LANG}_formatted.parquet\")"
   ]
  },
  {
   "cell_type": "code",
   "execution_count": null,
   "metadata": {},
   "outputs": [],
   "source": []
  }
 ],
 "metadata": {
  "kernelspec": {
   "display_name": "Python 3",
   "language": "python",
   "name": "python3"
  },
  "language_info": {
   "codemirror_mode": {
    "name": "ipython",
    "version": 3
   },
   "file_extension": ".py",
   "mimetype": "text/x-python",
   "name": "python",
   "nbconvert_exporter": "python",
   "pygments_lexer": "ipython3",
   "version": "3.10.13"
  }
 },
 "nbformat": 4,
 "nbformat_minor": 2
}
