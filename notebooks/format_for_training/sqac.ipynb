{
 "cells": [
  {
   "cell_type": "code",
   "execution_count": 19,
   "metadata": {},
   "outputs": [
    {
     "name": "stdout",
     "output_type": "stream",
     "text": [
      "Loaded .env: True\n"
     ]
    }
   ],
   "source": [
    "import os\n",
    "import json\n",
    "import random\n",
    "from pathlib import Path\n",
    "\n",
    "from dotenv import load_dotenv\n",
    "import pandas as pd\n",
    "from datasets import Dataset\n",
    "\n",
    "from prompts import prompt_t1_sqac\n",
    "\n",
    "print(\"Loaded .env:\", load_dotenv(\"../../.env\", override=True))\n",
    "data_dir = Path(os.environ[\"PROJECT_DIR\"]) / \"data\" / \"host\" / \"sqac_squad_2024\"\n",
    "\n",
    "SPLIT = \"val\"\n",
    "LANG = \"es\""
   ]
  },
  {
   "cell_type": "code",
   "execution_count": 20,
   "metadata": {},
   "outputs": [
    {
     "name": "stdout",
     "output_type": "stream",
     "text": [
      "1864\n"
     ]
    },
    {
     "data": {
      "application/vnd.jupyter.widget-view+json": {
       "model_id": "dba92f663a584dc590a1bf8551b999c2",
       "version_major": 2,
       "version_minor": 0
      },
      "text/plain": [
       "Map:   0%|          | 0/1864 [00:00<?, ? examples/s]"
      ]
     },
     "metadata": {},
     "output_type": "display_data"
    }
   ],
   "source": [
    "t1 = json.load(open(data_dir / f\"{SPLIT}_t1_{LANG}.json\"))\n",
    "\n",
    "print(len(t1))\n",
    "\n",
    "\n",
    "def format(x):\n",
    "    return {\n",
    "        \"text\": prompt_t1_sqac.format(\n",
    "            title=x[\"title\"],\n",
    "            context=x['context'], \n",
    "            question=x[\"question\"]),\n",
    "        \"response\": x[\"value\"],\n",
    "    }\n",
    "\n",
    "ds = Dataset.from_list(t1)\n",
    "\n",
    "ds = ds.map(format)"
   ]
  },
  {
   "cell_type": "code",
   "execution_count": 21,
   "metadata": {},
   "outputs": [
    {
     "name": "stdout",
     "output_type": "stream",
     "text": [
      "{'id': 'e7e72d01-20d5-479e-b26a-dd14de55b256', 'title': 'CESS-CAST-P_102_20011002_rec.txt', 'context': 'La práctica totalidad de los profesores que imparten la disciplina en Catalunya son laicos. Sus males comenzaron a aflorar en 1999, al tiempo que las disposiciones de la Conselleria d \\' Ensenyament promovían el aumento del tiempo invertido en ampliar o reforzar los contenidos de Lengua y Literatura, Idioma Extranjero, Ciencias Sociales y Matemáticas. Paralelamente, la parte no común del currículo de la ESO quedaba reducida a la mitad. LA COMPETENCIA. Las 1.260 horas reservadas a las materias de libre elección, a lo largo de los cuatro cursos de la ESO, se han quedado en 600. Y en ese terreno de juego, que ha menguado a la mitad, la religión ha de competir con rivales como la Informática, la iniciación al vídeo, los experimentos de química, la práctica de deportes americanos o las experiencias musicales. De este modo, la elección de la clase de Religión, que tiene carácter voluntario, se ha convertido \"en un acto de heroísmo\", señala el responsable del Secretariat de l \\' Escola Cristiana de Catalunya, Francesc Riu, en el que la Iglesia catalana delega la gestión de la materia confesional en las aulas públicas.', 'question': '¿Con qué otras disciplinas optativas convive la religión?', 'test_case': 'SQAC_SQUAD_2024', 'value': 'la Informática, la iniciación al vídeo, los experimentos de química, la práctica de deportes americanos o las experiencias musicales', 'text': 'You are an excellent assistant at answering questions based on Spanish texts. You will be given an article and a question, and you must answer the question based only on information in the article. The response should be extracted from the context verbatim.\\n\\nAfter thoroughly reading the article and analyzing the question, respond with the answer.\\n\\nTitle:\\nCESS-CAST-P_102_20011002_rec.txt\\n\\nContext:\\nLa práctica totalidad de los profesores que imparten la disciplina en Catalunya son laicos. Sus males comenzaron a aflorar en 1999, al tiempo que las disposiciones de la Conselleria d \\' Ensenyament promovían el aumento del tiempo invertido en ampliar o reforzar los contenidos de Lengua y Literatura, Idioma Extranjero, Ciencias Sociales y Matemáticas. Paralelamente, la parte no común del currículo de la ESO quedaba reducida a la mitad. LA COMPETENCIA. Las 1.260 horas reservadas a las materias de libre elección, a lo largo de los cuatro cursos de la ESO, se han quedado en 600. Y en ese terreno de juego, que ha menguado a la mitad, la religión ha de competir con rivales como la Informática, la iniciación al vídeo, los experimentos de química, la práctica de deportes americanos o las experiencias musicales. De este modo, la elección de la clase de Religión, que tiene carácter voluntario, se ha convertido \"en un acto de heroísmo\", señala el responsable del Secretariat de l \\' Escola Cristiana de Catalunya, Francesc Riu, en el que la Iglesia catalana delega la gestión de la materia confesional en las aulas públicas.\\n\\nQuestion:\\n¿Con qué otras disciplinas optativas convive la religión?\\n', 'response': 'la Informática, la iniciación al vídeo, los experimentos de química, la práctica de deportes americanos o las experiencias musicales'}\n"
     ]
    }
   ],
   "source": [
    "print(random.choice(ds))"
   ]
  },
  {
   "cell_type": "code",
   "execution_count": 22,
   "metadata": {},
   "outputs": [
    {
     "data": {
      "application/vnd.jupyter.widget-view+json": {
       "model_id": "f6d7275fb4634b199607301a39e819ca",
       "version_major": 2,
       "version_minor": 0
      },
      "text/plain": [
       "Creating parquet from Arrow format:   0%|          | 0/2 [00:00<?, ?ba/s]"
      ]
     },
     "metadata": {},
     "output_type": "display_data"
    },
    {
     "data": {
      "text/plain": [
       "3616620"
      ]
     },
     "execution_count": 22,
     "metadata": {},
     "output_type": "execute_result"
    }
   ],
   "source": [
    "final_cols = [\"text\", \"response\"]\n",
    "\n",
    "ds.remove_columns([x for x in ds.column_names if x not in final_cols]).to_parquet(data_dir / f\"{SPLIT}_t1_{LANG}_formatted.parquet\")"
   ]
  },
  {
   "cell_type": "code",
   "execution_count": null,
   "metadata": {},
   "outputs": [],
   "source": []
  }
 ],
 "metadata": {
  "kernelspec": {
   "display_name": "Python 3",
   "language": "python",
   "name": "python3"
  },
  "language_info": {
   "codemirror_mode": {
    "name": "ipython",
    "version": 3
   },
   "file_extension": ".py",
   "mimetype": "text/x-python",
   "name": "python",
   "nbconvert_exporter": "python",
   "pygments_lexer": "ipython3",
   "version": "3.10.13"
  }
 },
 "nbformat": 4,
 "nbformat_minor": 2
}
