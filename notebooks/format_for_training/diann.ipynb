{
 "cells": [
  {
   "cell_type": "code",
   "execution_count": 30,
   "metadata": {},
   "outputs": [
    {
     "name": "stdout",
     "output_type": "stream",
     "text": [
      "Loaded .env: True\n"
     ]
    }
   ],
   "source": [
    "import os\n",
    "from pathlib import Path\n",
    "\n",
    "from dotenv import load_dotenv\n",
    "import pandas as pd\n",
    "\n",
    "print(\"Loaded .env:\", load_dotenv(\"../../.env\", override=True))\n",
    "data_dir = Path(os.environ[\"PROJECT_DIR\"]) / \"data\" / \"host\" / \"diann_2023\"\n",
    "\n",
    "from prompts import prompt_t1_diann\n",
    "\n",
    "SPLIT = \"val\"\n",
    "LANG = \"en\""
   ]
  },
  {
   "cell_type": "code",
   "execution_count": 31,
   "metadata": {},
   "outputs": [
    {
     "data": {
      "text/plain": [
       "[('Case', 'O'),\n",
       " ('report', 'O'),\n",
       " ('This', 'O'),\n",
       " ('is', 'O'),\n",
       " ('a', 'O'),\n",
       " ('19', 'O'),\n",
       " ('-', 'O'),\n",
       " ('year', 'O'),\n",
       " ('-', 'O'),\n",
       " ('old', 'O'),\n",
       " ('male', 'O'),\n",
       " ('with', 'O'),\n",
       " ('bilateral', 'O'),\n",
       " ('external', 'O'),\n",
       " ('rectus', 'O'),\n",
       " ('muscle', 'O'),\n",
       " ('palsy', 'O'),\n",
       " ('secundary', 'O'),\n",
       " ('to', 'O'),\n",
       " ('trauma', 'O'),\n",
       " ('.', 'O'),\n",
       " ('During', 'O'),\n",
       " ('treatment', 'O'),\n",
       " (',', 'O'),\n",
       " ('an', 'O'),\n",
       " ('inadvertent', 'O'),\n",
       " ('intraocular', 'O'),\n",
       " ('injection', 'O'),\n",
       " ('of', 'O'),\n",
       " ('botulinum', 'O'),\n",
       " ('toxin', 'O'),\n",
       " ('was', 'O'),\n",
       " ('present', 'O'),\n",
       " (',', 'O'),\n",
       " ('causing', 'O'),\n",
       " ('a', 'O'),\n",
       " ('retinal', 'O'),\n",
       " ('tear', 'O'),\n",
       " ('and', 'O'),\n",
       " ('localized', 'O'),\n",
       " ('retinal', 'O'),\n",
       " ('detachment', 'O'),\n",
       " ('.', 'O'),\n",
       " ('Both', 'O'),\n",
       " ('lesions', 'O'),\n",
       " ('were', 'O'),\n",
       " ('delimited', 'O'),\n",
       " ('with', 'O'),\n",
       " ('laser', 'O'),\n",
       " ('observing', 'O'),\n",
       " ('a', 'O'),\n",
       " ('spontaneous', 'O'),\n",
       " ('resolution', 'O'),\n",
       " ('of', 'O'),\n",
       " ('the', 'O'),\n",
       " ('detachment', 'O'),\n",
       " ('without', 'O'),\n",
       " ('presenting', 'O'),\n",
       " ('visual', 'B-DIS'),\n",
       " ('impairment', 'I-DIS'),\n",
       " ('during', 'O'),\n",
       " ('the', 'O'),\n",
       " ('follow', 'O'),\n",
       " ('-', 'O'),\n",
       " ('up', 'O'),\n",
       " ('.', 'O'),\n",
       " ('Discussion', 'O'),\n",
       " ('Although', 'O'),\n",
       " ('intraocular', 'O'),\n",
       " ('botulinum', 'O'),\n",
       " ('toxin', 'O'),\n",
       " ('does', 'O'),\n",
       " ('not', 'O'),\n",
       " ('generate', 'O'),\n",
       " ('retinal', 'O'),\n",
       " ('toxicity', 'O'),\n",
       " (',', 'O'),\n",
       " ('inadvertent', 'O'),\n",
       " ('intraocular', 'O'),\n",
       " ('injection', 'O'),\n",
       " ('should', 'O'),\n",
       " ('be', 'O'),\n",
       " ('closely', 'O'),\n",
       " ('monitored', 'O'),\n",
       " ('to', 'O'),\n",
       " ('avoid', 'O'),\n",
       " ('complications', 'O'),\n",
       " ('secondary', 'O'),\n",
       " ('to', 'O'),\n",
       " ('perforation', 'O'),\n",
       " ('.', 'O')]"
      ]
     },
     "execution_count": 31,
     "metadata": {},
     "output_type": "execute_result"
    }
   ],
   "source": [
    "import json\n",
    "\n",
    "t1 = json.load(open(data_dir / f\"{SPLIT}_t1_{LANG}.json\"))\n",
    "\n",
    "tokens = t1[0][\"tokens\"]\n",
    "labels = t1[0][\"value\"]\n",
    "\n",
    "list(zip(tokens, labels))"
   ]
  },
  {
   "cell_type": "code",
   "execution_count": 32,
   "metadata": {},
   "outputs": [
    {
     "data": {
      "application/vnd.jupyter.widget-view+json": {
       "model_id": "956b7267d6884a579c8ad461c834c5d8",
       "version_major": 2,
       "version_minor": 0
      },
      "text/plain": [
       "Map (num_proc=10):   0%|          | 0/98 [00:00<?, ? examples/s]"
      ]
     },
     "metadata": {},
     "output_type": "display_data"
    }
   ],
   "source": [
    "from datasets import Dataset\n",
    "\n",
    "def format(example):\n",
    "\n",
    "    entities = []\n",
    "    temp = []\n",
    "    for t, v in zip(example[\"tokens\"], example[\"value\"]):\n",
    "        if v.startswith(\"B\"):\n",
    "            if temp:\n",
    "                entities.append(\" \".join(temp))\n",
    " \n",
    "            temp = [t]\n",
    "        elif v.startswith(\"I\"):\n",
    "            temp.append(t)\n",
    "\n",
    "    if temp:\n",
    "        entities.append(\" \".join(temp))\n",
    "\n",
    "    return {\n",
    "        \"text\": prompt_t1_diann + \" \".join(example[\"tokens\"]),\n",
    "        \"response\": \"\\n\".join(entities)\n",
    "    }\n",
    "\n",
    "\n",
    "ds = Dataset.from_list(t1)\n",
    "\n",
    "ds = ds.map(format, num_proc=10)"
   ]
  },
  {
   "cell_type": "markdown",
   "metadata": {},
   "source": [
    "# Double-checking to make sure it works properly"
   ]
  },
  {
   "cell_type": "code",
   "execution_count": 33,
   "metadata": {},
   "outputs": [
    {
     "name": "stdout",
     "output_type": "stream",
     "text": [
      "['sudden', 'visual', 'loss']\n",
      "sudden visual loss\n"
     ]
    }
   ],
   "source": [
    "x = ds.shuffle()[0]\n",
    "\n",
    "values = [t for t,v in zip(x[\"tokens\"], x[\"value\"]) if v != \"O\"]\n",
    "r = x[\"response\"]\n",
    "\n",
    "print(values)\n",
    "print(r)"
   ]
  },
  {
   "cell_type": "code",
   "execution_count": 34,
   "metadata": {},
   "outputs": [
    {
     "data": {
      "application/vnd.jupyter.widget-view+json": {
       "model_id": "efba39cb302849b0bb10f0ab9bf42053",
       "version_major": 2,
       "version_minor": 0
      },
      "text/plain": [
       "Creating parquet from Arrow format:   0%|          | 0/1 [00:00<?, ?ba/s]"
      ]
     },
     "metadata": {},
     "output_type": "display_data"
    },
    {
     "data": {
      "text/plain": [
       "185593"
      ]
     },
     "execution_count": 34,
     "metadata": {},
     "output_type": "execute_result"
    }
   ],
   "source": [
    "final_cols = [\"text\", \"response\"]\n",
    "\n",
    "fds = ds.remove_columns([x for x in ds.column_names if x not in final_cols])\n",
    "\n",
    "fds.to_parquet(data_dir / f\"{SPLIT}_t1_{LANG}_formatted.parquet\")"
   ]
  },
  {
   "cell_type": "markdown",
   "metadata": {},
   "source": [
    "# Check token lengths"
   ]
  },
  {
   "cell_type": "code",
   "execution_count": 35,
   "metadata": {},
   "outputs": [],
   "source": [
    "from transformers import AutoTokenizer\n",
    "\n",
    "llama = AutoTokenizer.from_pretrained(\"unsloth/Llama-3.2-1B-Instruct\")\n",
    "qwen = AutoTokenizer.from_pretrained(\"Qwen/Qwen2.5-1.5B-Instruct\")\n",
    "mistral = AutoTokenizer.from_pretrained(\"mistralai/Ministral-8B-Instruct-2410\")"
   ]
  },
  {
   "cell_type": "code",
   "execution_count": 36,
   "metadata": {},
   "outputs": [
    {
     "data": {
      "application/vnd.jupyter.widget-view+json": {
       "model_id": "2d33d3e13ea44d1da7a0c4d708c4ec93",
       "version_major": 2,
       "version_minor": 0
      },
      "text/plain": [
       "Map (num_proc=10):   0%|          | 0/98 [00:00<?, ? examples/s]"
      ]
     },
     "metadata": {},
     "output_type": "display_data"
    },
    {
     "data": {
      "image/png": "[encoded data removed]",
      "text/plain": [
       "<Figure size 640x480 with 1 Axes>"
      ]
     },
     "metadata": {},
     "output_type": "display_data"
    },
    {
     "data": {
      "application/vnd.jupyter.widget-view+json": {
       "model_id": "9876c8b3d1eb4b1fa46a6fcba6a96744",
       "version_major": 2,
       "version_minor": 0
      },
      "text/plain": [
       "Map (num_proc=10):   0%|          | 0/98 [00:00<?, ? examples/s]"
      ]
     },
     "metadata": {},
     "output_type": "display_data"
    },
    {
     "data": {
      "image/png": "[encoded data removed]",
      "text/plain": [
       "<Figure size 640x480 with 1 Axes>"
      ]
     },
     "metadata": {},
     "output_type": "display_data"
    },
    {
     "data": {
      "application/vnd.jupyter.widget-view+json": {
       "model_id": "d9af51c9305b4d2baf6c60ccd6a55401",
       "version_major": 2,
       "version_minor": 0
      },
      "text/plain": [
       "Map (num_proc=10):   0%|          | 0/98 [00:00<?, ? examples/s]"
      ]
     },
     "metadata": {},
     "output_type": "display_data"
    },
    {
     "data": {
      "image/png": "[encoded data removed]",
      "text/plain": [
       "<Figure size 640x480 with 1 Axes>"
      ]
     },
     "metadata": {},
     "output_type": "display_data"
    }
   ],
   "source": [
    "import matplotlib.pyplot as plt\n",
    "\n",
    "\n",
    "tokenizers = [llama, qwen, mistral]\n",
    "\n",
    "def tokenize(example, tokenizer):\n",
    "    tokens = tokenizer.apply_chat_template([{\"role\": \"user\", \"content\": example[\"text\"]}, {\"role\": \"assistant\", \"content\":example[\"response\"]}])\n",
    "\n",
    "    return {\n",
    "        \"length\": len(tokens)\n",
    "    }\n",
    "\n",
    "for tokenizer in tokenizers:\n",
    "    temp_ds = ds.map(tokenize, fn_kwargs={\"tokenizer\": tokenizer}, num_proc=10)\n",
    "    plt.hist(temp_ds[\"length\"], bins=100)\n",
    "    plt.show()"
   ]
  }
 ],
 "metadata": {
  "kernelspec": {
   "display_name": "Python 3",
   "language": "python",
   "name": "python3"
  },
  "language_info": {
   "codemirror_mode": {
    "name": "ipython",
    "version": 3
   },
   "file_extension": ".py",
   "mimetype": "text/x-python",
   "name": "python",
   "nbconvert_exporter": "python",
   "pygments_lexer": "ipython3",
   "version": "3.10.13"
  }
 },
 "nbformat": 4,
 "nbformat_minor": 2
}
