{
 "cells": [
  {
   "cell_type": "markdown",
   "metadata": {},
   "source": [
    "[Task 1 - Propaganda Identification](#task-1---propaganda-identification)  \n",
    "[Task 2 - Coarse propaganda characterisation](#task-2---coarse-propaganda-characterisation)  \n",
    "[Task 3 - Fine-grained propaganda characterisation](#task-3---fine-grained-propaganda-characterisation)  "
   ]
  },
  {
   "cell_type": "code",
   "execution_count": 92,
   "metadata": {},
   "outputs": [
    {
     "name": "stdout",
     "output_type": "stream",
     "text": [
      "Loaded .env: True\n"
     ]
    }
   ],
   "source": [
    "import os\n",
    "from pathlib import Path\n",
    "\n",
    "from dotenv import load_dotenv\n",
    "import pandas as pd\n",
    "\n",
    "from prompts import (\n",
    "    prompt_t1_dipromats,\n",
    "    prompt_t2_dipromats,\n",
    "    prompt_t3_dipromats,\n",
    ")\n",
    "\n",
    "print(\"Loaded .env:\", load_dotenv(\"../../.env\", override=True))\n",
    "data_dir = Path(os.environ[\"PROJECT_DIR\"]) / \"data\" / \"host\" / \"dipromats_2023\"\n",
    "\n",
    "SPLIT = \"val\"\n",
    "LANG = \"en\""
   ]
  },
  {
   "cell_type": "markdown",
   "metadata": {},
   "source": [
    "# Task 1 - Propaganda Identification"
   ]
  },
  {
   "cell_type": "code",
   "execution_count": 93,
   "metadata": {},
   "outputs": [
    {
     "name": "stdout",
     "output_type": "stream",
     "text": [
      "You are an excellent assistant at identifying propaganda in tweets. Propaganda is defined as:\n",
      "information, especially of a biased or misleading nature, used to promote or publicize a particular political cause or point of view.\n",
      "\n",
      "After thoroughly reading and analyzing the tweet, respond with either \"true\" or \"false\" to indicate whether or not it is propaganda.\n",
      "\n",
      "Tweet:\n",
      "\n",
      "\n"
     ]
    }
   ],
   "source": [
    "print(prompt_t1_dipromats)"
   ]
  },
  {
   "cell_type": "code",
   "execution_count": 94,
   "metadata": {},
   "outputs": [
    {
     "data": {
      "application/vnd.jupyter.widget-view+json": {
       "model_id": "4dc1ee4b47eb4a8daf868efc0fc3c511",
       "version_major": 2,
       "version_minor": 0
      },
      "text/plain": [
       "Map:   0%|          | 0/1682 [00:00<?, ? examples/s]"
      ]
     },
     "metadata": {},
     "output_type": "display_data"
    }
   ],
   "source": [
    "import json\n",
    "from datasets import Dataset\n",
    "\n",
    "t1_en = json.load(open(data_dir / f\"{SPLIT}_t1_{LANG}.json\"))\n",
    "\n",
    "ds1 = Dataset.from_list(t1_en)\n",
    "\n",
    "def format_t1(example):\n",
    "    return {\n",
    "        \"text\": prompt_t1_dipromats + example[\"text\"],\n",
    "        \"response\": example[\"value\"]\n",
    "    }\n",
    "\n",
    "ds1 = ds1.map(format_t1)\n"
   ]
  },
  {
   "cell_type": "code",
   "execution_count": 95,
   "metadata": {},
   "outputs": [
    {
     "data": {
      "text/plain": [
       "{'test_case': 'DIPROMATS2023',\n",
       " 'id': '6263',\n",
       " 'country': 'USA',\n",
       " 'user_name': 'usaembassyinoz',\n",
       " 'tweet_type': 'quoted',\n",
       " 'tweet_id': 1297745865340145664,\n",
       " 'UTC': '2020-08-24 04:01:39+00:00',\n",
       " 'rts&fav': 267,\n",
       " 'language': 'en',\n",
       " 'text': 'You are an excellent assistant at identifying propaganda in tweets. Propaganda is defined as:\\ninformation, especially of a biased or misleading nature, used to promote or publicize a particular political cause or point of view.\\n\\nAfter thoroughly reading and analyzing the tweet, respond with either \"true\" or \"false\" to indicate whether or not it is propaganda.\\n\\nTweet:\\n\\nAfter much community consultation, the U.S. Mission Australia will be adopting the ee-mew pronunciation in all future emu-related alliance matters #USwithAUS https://t.co/UgvtKOFoiD',\n",
       " 'value': 'false',\n",
       " 'response': 'false'}"
      ]
     },
     "execution_count": 95,
     "metadata": {},
     "output_type": "execute_result"
    }
   ],
   "source": [
    "ds1.shuffle()[0]"
   ]
  },
  {
   "cell_type": "markdown",
   "metadata": {},
   "source": [
    "# Task 2 - Coarse propaganda characterisation"
   ]
  },
  {
   "cell_type": "code",
   "execution_count": 96,
   "metadata": {},
   "outputs": [
    {
     "name": "stdout",
     "output_type": "stream",
     "text": [
      "You are an excellent assistant at categorizing propaganda in tweets. Propaganda is defined as:\n",
      "information, especially of a biased or misleading nature, used to promote or publicize a particular political cause or point of view.\n",
      "\n",
      "You will need to decide which of the following applies to the tweet. It could be one or more of the following.\n",
      "\n",
      "1. Appeal to commonality. This could be related to the following:\n",
      "  - Ad populum: the tweet appeals to the will, the tradition or the history of a community to support an argument. e.g. \"The leadership of the #CPC is the choice of history and of the Chinese people.\"\n",
      "  - Flag Waving: the tweet includes hyperbolic praise of a nation, worships a patriotic symbol, exhibits self-praise, or portrays someone as a hero. e.g. \"The European Union is the best example, in the history of the world, of conflict resolution.\"\n",
      "2. Discrediting the opponent. This could be related to the following:\n",
      "  - Name Calling/Labelling: the author refers to someone or something with pejorative labels. e.g. \"The #US is the gravest threat to global strategic security and stability\"\n",
      "  - Undiplomatic Assertiveness/Whataboutism: the tweet vilifies an opponent, depicting their behavior as hostile, hypocritical or immoral, displaying undiplomatic contempt. This technique also includes counteraccusations to deviate the attention from sensitive issues. e.g. \"Just another proof that the #MediaFreedom principle is only applied to western or western-paid media. When Euro-NATO governments crack down on #Russian or Russian-language media there's zero reaction from #HumanRights apologists. Bias and double standards\"\n",
      "  - Scapegoating: the tweet transfers the blame to one person, group or institution. e.g. \"What has caused the current difficulties in China-UK relationship? My answer is loud and clear: China has not changed. It is the UK that has changed. The UK side should take full responsibility for the current difficulties.\"\n",
      "  - Propaganda Slinging:the author accuse others of spreading propaganda, disinformation or lies. e.g. \"Pompeo has been churning out lies wherever he goes, spreading political virus across the world.\"\n",
      "  - Personal attacks: the author attacks the personal, private background of an opponent. e.g. \"He tries to appeal to Christian voters, but his real life is anything but Christian. He is a heavy drinker and a compulsive womanizer.\"\n",
      "  - Fear Appeal: the author either seeks to instill fear in the readers about hypothetical situations that an opponent may provoke or aims to intimidate an opponent by warning about the consequences of their actions. e.g. \"We urge the US to stop using the Uighur Human Rights Policy Act of 2020 to harm China's interests. Otherwise, China will resolutely fight back, and the US will bear all the consequences.\"\n",
      "  - Absurdity Appeal: the author characterizes the behavior of an opponent or their ideas as absurd, ridiculous or pathetic. e.g. \"Joe Biden's response to the H1N1 Swine Flu was pathetic. Joe didnt have a clue!\"\n",
      "  - Demonization: the author invokes civic hatred towards an opponent, who is presented as an existential threat. e.g. \"Concast (@NBCNews) and Fake News @CNN are Chinese puppets who want to do business there. They use USA airwaves to help China. The Enemy of the People!\"\n",
      "  - Doubt: The author casts doubt on the credibility or honesty of someone. e.g. \"Growing doubts over the US government's handling of the #COVID19, e.g. When did the first infection occur in the US? Is the US government hiding something? Why they opt to blame others?\"\n",
      "  - Reductio ad Hitlerum: the tweets try to persuade an audience to disapprove an action or idea from an opponent by associating it with someone or something that is hated by the audience. e.g. \"The CPC has 90 million members, plus their families, the data has at least 270 million. Infringing these elites is directly against the Chinese people. Don't forget Hitler's evil history of persecution and massacres of German Communists and Jews.Stop NEW horrible fascists!\"\n",
      "3. Loaded Language. This mainly concerns hyperbolic language, evocative metaphors and words with strong emotional connotations. For example: \"this monumental achievement left a tremendous mark in history!\"\n",
      "4. Appeal to Authority. \n",
      "  - Appeal to false authority: Tweet includes a third person or institution to support an idea, message, or behavior for which they should not be considered as a valid expert. e.g. \"A voice of a Pakistani student's wife tells real situation about the coronavirus in China. Trust the Chinese Government. No panic!\"\n",
      "  - Bandwagoning: The author seeks to persuade someone to join a course of action because someone else is doing it. e.g. \"Germany took strong action today against Hizballah. We call on #EU member states to follow suit in holding Hizballah accountable.\"\n",
      "\n",
      "If none of the four categories above apply, respond \"false\" to indicate it is not propaganda.\n",
      "\n",
      "After thoroughly reading and analyzing the tweet, choose one or more of the above categories, and if none of the four applies, choose option 5:\n",
      "\n",
      "1. Appeal to commonality\n",
      "2. Discrediting the opponent\n",
      "3. Loaded Language\n",
      "4. Appeal to Authority\n",
      "5. Not propaganda\n",
      "\n",
      "Tweet:\n",
      "\n",
      "\n"
     ]
    }
   ],
   "source": [
    "print(prompt_t2_dipromats)"
   ]
  },
  {
   "cell_type": "code",
   "execution_count": 97,
   "metadata": {},
   "outputs": [
    {
     "data": {
      "application/vnd.jupyter.widget-view+json": {
       "model_id": "8ab18dd22d064dbaa013974a8b870f35",
       "version_major": 2,
       "version_minor": 0
      },
      "text/plain": [
       "Map:   0%|          | 0/1682 [00:00<?, ? examples/s]"
      ]
     },
     "metadata": {},
     "output_type": "display_data"
    }
   ],
   "source": [
    "t2_en = json.load(open(data_dir / f\"{SPLIT}_t2_{LANG}.json\"))\n",
    "\n",
    "ds2 = Dataset.from_list(t2_en)\n",
    "\n",
    "def format_t2(example):\n",
    "\n",
    "    mapping = {\"false\": \"5 not_propaganda\"}\n",
    "\n",
    "    labels = [mapping.get(x, x) for x in  example[\"value\"]]\n",
    "\n",
    "\n",
    "    return {\n",
    "        \"text\": prompt_t2_dipromats + example[\"text\"],\n",
    "        \"response\": \"\\n\".join(sorted(labels))\n",
    "    }\n",
    "\n",
    "\n",
    "ds2 = ds2.map(format_t2)\n"
   ]
  },
  {
   "cell_type": "code",
   "execution_count": 98,
   "metadata": {},
   "outputs": [
    {
     "name": "stdout",
     "output_type": "stream",
     "text": [
      "{'test_case': 'DIPROMATS2023', 'id': '4818', 'country': 'Russia', 'user_name': 'russia', 'tweet_type': 'Tweet', 'tweet_id': 1279311308857528320, 'UTC': '2020-07-04 07:09:19+00:00', 'rts&fav': 123, 'language': 'en', 'text': 'You are an excellent assistant at categorizing propaganda in tweets. Propaganda is defined as:\\ninformation, especially of a biased or misleading nature, used to promote or publicize a particular political cause or point of view.\\n\\nYou will need to decide which of the following applies to the tweet. It could be one or more of the following.\\n\\n1. Appeal to commonality. This could be related to the following:\\n  - Ad populum: the tweet appeals to the will, the tradition or the history of a community to support an argument. e.g. \"The leadership of the #CPC is the choice of history and of the Chinese people.\"\\n  - Flag Waving: the tweet includes hyperbolic praise of a nation, worships a patriotic symbol, exhibits self-praise, or portrays someone as a hero. e.g. \"The European Union is the best example, in the history of the world, of conflict resolution.\"\\n2. Discrediting the opponent. This could be related to the following:\\n  - Name Calling/Labelling: the author refers to someone or something with pejorative labels. e.g. \"The #US is the gravest threat to global strategic security and stability\"\\n  - Undiplomatic Assertiveness/Whataboutism: the tweet vilifies an opponent, depicting their behavior as hostile, hypocritical or immoral, displaying undiplomatic contempt. This technique also includes counteraccusations to deviate the attention from sensitive issues. e.g. \"Just another proof that the #MediaFreedom principle is only applied to western or western-paid media. When Euro-NATO governments crack down on #Russian or Russian-language media there\\'s zero reaction from #HumanRights apologists. Bias and double standards\"\\n  - Scapegoating: the tweet transfers the blame to one person, group or institution. e.g. \"What has caused the current difficulties in China-UK relationship? My answer is loud and clear: China has not changed. It is the UK that has changed. The UK side should take full responsibility for the current difficulties.\"\\n  - Propaganda Slinging:the author accuse others of spreading propaganda, disinformation or lies. e.g. \"Pompeo has been churning out lies wherever he goes, spreading political virus across the world.\"\\n  - Personal attacks: the author attacks the personal, private background of an opponent. e.g. \"He tries to appeal to Christian voters, but his real life is anything but Christian. He is a heavy drinker and a compulsive womanizer.\"\\n  - Fear Appeal: the author either seeks to instill fear in the readers about hypothetical situations that an opponent may provoke or aims to intimidate an opponent by warning about the consequences of their actions. e.g. \"We urge the US to stop using the Uighur Human Rights Policy Act of 2020 to harm China\\'s interests. Otherwise, China will resolutely fight back, and the US will bear all the consequences.\"\\n  - Absurdity Appeal: the author characterizes the behavior of an opponent or their ideas as absurd, ridiculous or pathetic. e.g. \"Joe Biden\\'s response to the H1N1 Swine Flu was pathetic. Joe didnt have a clue!\"\\n  - Demonization: the author invokes civic hatred towards an opponent, who is presented as an existential threat. e.g. \"Concast (@NBCNews) and Fake News @CNN are Chinese puppets who want to do business there. They use USA airwaves to help China. The Enemy of the People!\"\\n  - Doubt: The author casts doubt on the credibility or honesty of someone. e.g. \"Growing doubts over the US government\\'s handling of the #COVID19, e.g. When did the first infection occur in the US? Is the US government hiding something? Why they opt to blame others?\"\\n  - Reductio ad Hitlerum: the tweets try to persuade an audience to disapprove an action or idea from an opponent by associating it with someone or something that is hated by the audience. e.g. \"The CPC has 90 million members, plus their families, the data has at least 270 million. Infringing these elites is directly against the Chinese people. Don\\'t forget Hitler\\'s evil history of persecution and massacres of German Communists and Jews.Stop NEW horrible fascists!\"\\n3. Loaded Language. This mainly concerns hyperbolic language, evocative metaphors and words with strong emotional connotations. For example: \"this monumental achievement left a tremendous mark in history!\"\\n4. Appeal to Authority. \\n  - Appeal to false authority: Tweet includes a third person or institution to support an idea, message, or behavior for which they should not be considered as a valid expert. e.g. \"A voice of a Pakistani student\\'s wife tells real situation about the coronavirus in China. Trust the Chinese Government. No panic!\"\\n  - Bandwagoning: The author seeks to persuade someone to join a course of action because someone else is doing it. e.g. \"Germany took strong action today against Hizballah. We call on #EU member states to follow suit in holding Hizballah accountable.\"\\n\\nIf none of the four categories above apply, respond \"false\" to indicate it is not propaganda.\\n\\nAfter thoroughly reading and analyzing the tweet, choose one or more of the above categories, and if none of the four applies, choose option 5:\\n\\n1. Appeal to commonality\\n2. Discrediting the opponent\\n3. Loaded Language\\n4. Appeal to Authority\\n5. Not propaganda\\n\\nTweet:\\n\\n✈️ #OTD in 1957 legendary Soviet 4-engine turboprop airliner #Ilyushin #IL18 performed its maiden flight. \\n\\nIt is one of most iconic passenger planes of XX century known for 💪 remarkable durability of its aiframe. Some Il-18 remain operational &amp; 1 is even a luxury hotel in 🇳🇱 https://t.co/iEjkW2Ype4', 'value': ['1 appeal to commonality', '3 loaded language'], 'response': '1 appeal to commonality\\n3 loaded language'}\n"
     ]
    }
   ],
   "source": [
    "import random\n",
    "\n",
    "\n",
    "while True:\n",
    "    x = random.choice(ds2)\n",
    "    if len(x[\"value\"]) > 1:\n",
    "        break\n",
    "\n",
    "print(x)"
   ]
  },
  {
   "cell_type": "markdown",
   "metadata": {},
   "source": [
    "# Task 3 - Fine-grained propaganda characterisation"
   ]
  },
  {
   "cell_type": "code",
   "execution_count": 99,
   "metadata": {},
   "outputs": [
    {
     "name": "stdout",
     "output_type": "stream",
     "text": [
      "You are an excellent assistant at categorizing propaganda in tweets. Propaganda is defined as:\n",
      "information, especially of a biased or misleading nature, used to promote or publicize a particular political cause or point of view.\n",
      "\n",
      "You will need to decide which of the following applies to the tweet. It could be one or more of the following.\n",
      "\n",
      "A. Appeal to commonality - Ad populum: the tweet appeals to the will, the tradition or the history of a community to support an argument. e.g. \"The leadership of the #CPC is the choice of history and of the Chinese people.\"\n",
      "B. Appeal to commonality - Flag Waving: the tweet includes hyperbolic praise of a nation, worships a patriotic symbol, exhibits self-praise, or portrays someone as a hero. e.g. \"The European Union is the best example, in the history of the world, of conflict resolution.\"\n",
      "C. Discrediting the opponent - Name Calling/Labelling: the author refers to someone or something with pejorative labels. e.g. \"The #US is the gravest threat to global strategic security and stability\"\n",
      "D. Discrediting the opponent - Undiplomatic Assertiveness/Whataboutism: the tweet vilifies an opponent, depicting their behavior as hostile, hypocritical or immoral, displaying undiplomatic contempt. This technique also includes counteraccusations to deviate the attention from sensitive issues. e.g. \"Just another proof that the #MediaFreedom principle is only applied to western or western-paid media. When Euro-NATO governments crack down on #Russian or Russian-language media there's zero reaction from #HumanRights apologists. Bias and double standards\"\n",
      "E. Discrediting the opponent - Scapegoating: the tweet transfers the blame to one person, group or institution. e.g. \"What has caused the current difficulties in China-UK relationship? My answer is loud and clear: China has not changed. It is the UK that has changed. The UK side should take full responsibility for the current difficulties.\"\n",
      "F. Discrediting the opponent - Propaganda Slinging:the author accuse others of spreading propaganda, disinformation or lies. e.g. \"Pompeo has been churning out lies wherever he goes, spreading political virus across the world.\"\n",
      "G. Discrediting the opponent - Personal attacks: the author attacks the personal, private background of an opponent. e.g. \"He tries to appeal to Christian voters, but his real life is anything but Christian. He is a heavy drinker and a compulsive womanizer.\"\n",
      "H. Discrediting the opponent - Fear Appeals: the author either seeks to instill fear in the readers about hypothetical situations that an opponent may provoke or aims to intimidate an opponent by warning about the consequences of their actions. e.g. \"We urge the US to stop using the Uighur Human Rights Policy Act of 2020 to harm China's interests. Otherwise, China will resolutely fight back, and the US will bear all the consequences.\"\n",
      "I. Discrediting the opponent - Absurdity Appeal: the author characterizes the behavior of an opponent or their ideas as absurd, ridiculous or pathetic. e.g. \"Joe Biden's response to the H1N1 Swine Flu was pathetic. Joe didnt have a clue!\"\n",
      "J. Discrediting the opponent - Demonization: the author invokes civic hatred towards an opponent, who is presented as an existential threat. e.g. \"Concast (@NBCNews) and Fake News @CNN are Chinese puppets who want to do business there. They use USA airwaves to help China. The Enemy of the People!\"\n",
      "K. Discrediting the opponent - Doubt: The author casts doubt on the credibility or honesty of someone. e.g. \"Growing doubts over the US government's handling of the #COVID19, e.g. When did the first infection occur in the US? Is the US government hiding something? Why they opt to blame others?\"\n",
      "L. Discrediting the opponent - Reductio ad Hitlerum: the tweets try to persuade an audience to disapprove an action or idea from an opponent by associating it with someone or something that is hated by the audience. e.g. \"The CPC has 90 million members, plus their families, the data has at least 270 million. Infringing these elites is directly against the Chinese people. Don't forget Hitler's evil history of persecution and massacres of German Communists and Jews.Stop NEW horrible fascists!\"\n",
      "M. Loaded Language. This mainly concerns hyperbolic language, evocative metaphors and words with strong emotional connotations. For example: \"this monumental achievement left a tremendous mark in history!\"\n",
      "N. Appeal to Authority - Appeal to false authority: Tweet includes a third person or institution to support an idea, message, or behavior for which they should not be considered as a valid expert. e.g. \"A voice of a Pakistani student's wife tells real situation about the coronavirus in China. Trust the Chinese Government. No panic!\"\n",
      "O. Appeal to Authority - Bandwagoning: The author seeks to persuade someone to join a course of action because someone else is doing it. e.g. \"Germany took strong action today against Hizballah. We call on #EU member states to follow suit in holding Hizballah accountable.\"\n",
      "\n",
      "If none of the four categories above apply, respond \"false\" to indicate it is not propaganda.\n",
      "\n",
      "After thoroughly reading and analyzing the tweet, choose one or more of the above categories, unless if none of options A-O applies, choose option P:\n",
      "\n",
      "A. appeal to commonality - ad populum\n",
      "B. appeal to commonality - flag waving\n",
      "C. discrediting the opponent - name calling\n",
      "D. discrediting the opponent - undiplomatic assertiveness/whataboutism\n",
      "E. discrediting the opponent - scapegoating\n",
      "F. discrediting the opponent - propaganda slinging\n",
      "G. discrediting the opponent - personal attacks\n",
      "H. discrediting the opponent - fear appeals\n",
      "I. discrediting the opponent - absurdity appeal\n",
      "J. discrediting the opponent - demonization\n",
      "K. discrediting the opponent - doubt\n",
      "L. discrediting the opponent - reductio ad hitlerum\n",
      "M. loaded language\n",
      "N. appeal to authority - appeal to false authority\n",
      "O. appeal to authority - bandwagoning\n",
      "P. not propaganda\n",
      "\n",
      "Tweet:\n",
      "\n",
      "\n"
     ]
    }
   ],
   "source": [
    "print(prompt_t3_dipromats)"
   ]
  },
  {
   "cell_type": "code",
   "execution_count": 100,
   "metadata": {},
   "outputs": [
    {
     "data": {
      "application/vnd.jupyter.widget-view+json": {
       "model_id": "a2cdf3590771432c985f5f4c4a0c813b",
       "version_major": 2,
       "version_minor": 0
      },
      "text/plain": [
       "Map:   0%|          | 0/6726 [00:00<?, ? examples/s]"
      ]
     },
     "metadata": {},
     "output_type": "display_data"
    }
   ],
   "source": [
    "t3_en = json.load(open(data_dir / \"train_t3_en.json\"))\n",
    "\n",
    "ds3 = Dataset.from_list(t3_en)\n",
    "\n",
    "char2label = {\"A\": \"appeal to commonality - ad populum\",\n",
    "\"B\": \"appeal to commonality - flag waving\",\n",
    "\"C\": \"discrediting the opponent - name calling\",\n",
    "\"D\": \"discrediting the opponent - undiplomatic assertiveness/whataboutism\",\n",
    "\"E\": \"discrediting the opponent - scapegoating\",\n",
    "\"F\": \"discrediting the opponent - propaganda slinging\",\n",
    "\"G\": \"discrediting the opponent - personal attacks\",\n",
    "\"H\": \"discrediting the opponent - fear appeals\",\n",
    "\"I\": \"discrediting the opponent - absurdity appeal\",\n",
    "\"J\": \"discrediting the opponent - demonization\",\n",
    "\"K\": \"discrediting the opponent - doubt\",\n",
    "\"L\": \"discrediting the opponent - reductio ad hitlerum\",\n",
    "\"M\": \"loaded language\",\n",
    "\"N\": \"appeal to authority - appeal to false authority\",\n",
    "\"O\": \"appeal to authority - bandwagoning\",\n",
    "\"P\": \"not propaganda\",\n",
    "}\n",
    "label2char = {v:k for k,v in char2label.items()}\n",
    "\n",
    "def format_t3(example):\n",
    "\n",
    "    labels = []\n",
    "\n",
    "    for x in example[\"value\"]:\n",
    "        if x[0].isdigit():\n",
    "            x = x[1:].strip()\n",
    "        if x == \"false\":\n",
    "            x = \"not propaganda\"\n",
    "\n",
    "        if \"(\" in x:\n",
    "            x = x.split(\"(\")[0].strip()\n",
    "        \n",
    "        labels.append(label2char[x] + \" \" + x)\n",
    "\n",
    "    return {\n",
    "        \"text\": prompt_t3_dipromats + example[\"text\"],\n",
    "        \"response\": \"\\n\".join(sorted(labels))\n",
    "    }\n",
    "\n",
    "ds3 = ds3.map(format_t3)"
   ]
  },
  {
   "cell_type": "code",
   "execution_count": 101,
   "metadata": {},
   "outputs": [
    {
     "name": "stdout",
     "output_type": "stream",
     "text": [
      "{'test_case': 'DIPROMATS2023', 'id': '5676', 'country': 'Russia', 'user_name': 'mfa_russia', 'tweet_type': 'Tweet', 'tweet_id': 1289837548634701824, 'UTC': '2020-08-02 08:16:50+00:00', 'rts&fav': 498, 'language': 'en', 'text': 'You are an excellent assistant at categorizing propaganda in tweets. Propaganda is defined as:\\ninformation, especially of a biased or misleading nature, used to promote or publicize a particular political cause or point of view.\\n\\nYou will need to decide which of the following applies to the tweet. It could be one or more of the following.\\n\\nA. Appeal to commonality - Ad populum: the tweet appeals to the will, the tradition or the history of a community to support an argument. e.g. \"The leadership of the #CPC is the choice of history and of the Chinese people.\"\\nB. Appeal to commonality - Flag Waving: the tweet includes hyperbolic praise of a nation, worships a patriotic symbol, exhibits self-praise, or portrays someone as a hero. e.g. \"The European Union is the best example, in the history of the world, of conflict resolution.\"\\nC. Discrediting the opponent - Name Calling/Labelling: the author refers to someone or something with pejorative labels. e.g. \"The #US is the gravest threat to global strategic security and stability\"\\nD. Discrediting the opponent - Undiplomatic Assertiveness/Whataboutism: the tweet vilifies an opponent, depicting their behavior as hostile, hypocritical or immoral, displaying undiplomatic contempt. This technique also includes counteraccusations to deviate the attention from sensitive issues. e.g. \"Just another proof that the #MediaFreedom principle is only applied to western or western-paid media. When Euro-NATO governments crack down on #Russian or Russian-language media there\\'s zero reaction from #HumanRights apologists. Bias and double standards\"\\nE. Discrediting the opponent - Scapegoating: the tweet transfers the blame to one person, group or institution. e.g. \"What has caused the current difficulties in China-UK relationship? My answer is loud and clear: China has not changed. It is the UK that has changed. The UK side should take full responsibility for the current difficulties.\"\\nF. Discrediting the opponent - Propaganda Slinging:the author accuse others of spreading propaganda, disinformation or lies. e.g. \"Pompeo has been churning out lies wherever he goes, spreading political virus across the world.\"\\nG. Discrediting the opponent - Personal attacks: the author attacks the personal, private background of an opponent. e.g. \"He tries to appeal to Christian voters, but his real life is anything but Christian. He is a heavy drinker and a compulsive womanizer.\"\\nH. Discrediting the opponent - Fear Appeals: the author either seeks to instill fear in the readers about hypothetical situations that an opponent may provoke or aims to intimidate an opponent by warning about the consequences of their actions. e.g. \"We urge the US to stop using the Uighur Human Rights Policy Act of 2020 to harm China\\'s interests. Otherwise, China will resolutely fight back, and the US will bear all the consequences.\"\\nI. Discrediting the opponent - Absurdity Appeal: the author characterizes the behavior of an opponent or their ideas as absurd, ridiculous or pathetic. e.g. \"Joe Biden\\'s response to the H1N1 Swine Flu was pathetic. Joe didnt have a clue!\"\\nJ. Discrediting the opponent - Demonization: the author invokes civic hatred towards an opponent, who is presented as an existential threat. e.g. \"Concast (@NBCNews) and Fake News @CNN are Chinese puppets who want to do business there. They use USA airwaves to help China. The Enemy of the People!\"\\nK. Discrediting the opponent - Doubt: The author casts doubt on the credibility or honesty of someone. e.g. \"Growing doubts over the US government\\'s handling of the #COVID19, e.g. When did the first infection occur in the US? Is the US government hiding something? Why they opt to blame others?\"\\nL. Discrediting the opponent - Reductio ad Hitlerum: the tweets try to persuade an audience to disapprove an action or idea from an opponent by associating it with someone or something that is hated by the audience. e.g. \"The CPC has 90 million members, plus their families, the data has at least 270 million. Infringing these elites is directly against the Chinese people. Don\\'t forget Hitler\\'s evil history of persecution and massacres of German Communists and Jews.Stop NEW horrible fascists!\"\\nM. Loaded Language. This mainly concerns hyperbolic language, evocative metaphors and words with strong emotional connotations. For example: \"this monumental achievement left a tremendous mark in history!\"\\nN. Appeal to Authority - Appeal to false authority: Tweet includes a third person or institution to support an idea, message, or behavior for which they should not be considered as a valid expert. e.g. \"A voice of a Pakistani student\\'s wife tells real situation about the coronavirus in China. Trust the Chinese Government. No panic!\"\\nO. Appeal to Authority - Bandwagoning: The author seeks to persuade someone to join a course of action because someone else is doing it. e.g. \"Germany took strong action today against Hizballah. We call on #EU member states to follow suit in holding Hizballah accountable.\"\\n\\nIf none of the four categories above apply, respond \"false\" to indicate it is not propaganda.\\n\\nAfter thoroughly reading and analyzing the tweet, choose one or more of the above categories, unless if none of options A-O applies, choose option P:\\n\\nA. appeal to commonality - ad populum\\nB. appeal to commonality - flag waving\\nC. discrediting the opponent - name calling\\nD. discrediting the opponent - undiplomatic assertiveness/whataboutism\\nE. discrediting the opponent - scapegoating\\nF. discrediting the opponent - propaganda slinging\\nG. discrediting the opponent - personal attacks\\nH. discrediting the opponent - fear appeals\\nI. discrediting the opponent - absurdity appeal\\nJ. discrediting the opponent - demonization\\nK. discrediting the opponent - doubt\\nL. discrediting the opponent - reductio ad hitlerum\\nM. loaded language\\nN. appeal to authority - appeal to false authority\\nO. appeal to authority - bandwagoning\\nP. not propaganda\\n\\nTweet:\\n\\n🕯️ Today we commemorate the legendary 🛩️ Soviet flying ace Lydia #Litvyak - she was K.I.A. #OTD in 1943 during the Battle of #Kursk at the age of 21. Nicknamed the 🌼 \\'White Lily/Rose of Stalingrad\\' Lydia was the best #WWII female pilot (16 victories). 🎖️ Hero of the Soviet Union https://t.co/EJ3dxtFy9T', 'value': ['1 appeal to commonality - flag waving', '3 loaded language'], 'response': 'B appeal to commonality - flag waving\\nM loaded language'}\n"
     ]
    }
   ],
   "source": [
    "while True:\n",
    "    x = random.choice(ds3)\n",
    "    if len(x[\"value\"]) > 1:\n",
    "        break\n",
    "\n",
    "print(x)"
   ]
  },
  {
   "cell_type": "code",
   "execution_count": 102,
   "metadata": {},
   "outputs": [
    {
     "data": {
      "application/vnd.jupyter.widget-view+json": {
       "model_id": "08ad4b0e282d45059af5888ecc865175",
       "version_major": 2,
       "version_minor": 0
      },
      "text/plain": [
       "Creating parquet from Arrow format:   0%|          | 0/2 [00:00<?, ?ba/s]"
      ]
     },
     "metadata": {},
     "output_type": "display_data"
    },
    {
     "data": {
      "application/vnd.jupyter.widget-view+json": {
       "model_id": "43ae60ab4642489a83cd22ee6b4fe99d",
       "version_major": 2,
       "version_minor": 0
      },
      "text/plain": [
       "Creating parquet from Arrow format:   0%|          | 0/2 [00:00<?, ?ba/s]"
      ]
     },
     "metadata": {},
     "output_type": "display_data"
    },
    {
     "data": {
      "application/vnd.jupyter.widget-view+json": {
       "model_id": "8fc630c1b7b54406a7f970abae784b61",
       "version_major": 2,
       "version_minor": 0
      },
      "text/plain": [
       "Creating parquet from Arrow format:   0%|          | 0/7 [00:00<?, ?ba/s]"
      ]
     },
     "metadata": {},
     "output_type": "display_data"
    },
    {
     "data": {
      "text/plain": [
       "42015260"
      ]
     },
     "execution_count": 102,
     "metadata": {},
     "output_type": "execute_result"
    }
   ],
   "source": [
    "final_ds_list = []\n",
    "\n",
    "final_cols = [\"text\", \"response\"]\n",
    "\n",
    "ds1.remove_columns([x for x in ds1.column_names if x not in final_cols]).to_parquet(data_dir / f\"{SPLIT}_t1_{LANG}_formatted.parquet\")\n",
    "ds2.remove_columns([x for x in ds2.column_names if x not in final_cols]).to_parquet(data_dir / f\"{SPLIT}_t2_{LANG}_formatted.parquet\")\n",
    "ds3.remove_columns([x for x in ds3.column_names if x not in final_cols]).to_parquet(data_dir / f\"{SPLIT}_t3_{LANG}_formatted.parquet\")"
   ]
  },
  {
   "cell_type": "code",
   "execution_count": null,
   "metadata": {},
   "outputs": [],
   "source": []
  }
 ],
 "metadata": {
  "kernelspec": {
   "display_name": "Python 3",
   "language": "python",
   "name": "python3"
  },
  "language_info": {
   "codemirror_mode": {
    "name": "ipython",
    "version": 3
   },
   "file_extension": ".py",
   "mimetype": "text/x-python",
   "name": "python",
   "nbconvert_exporter": "python",
   "pygments_lexer": "ipython3",
   "version": "3.10.13"
  }
 },
 "nbformat": 4,
 "nbformat_minor": 2
}
