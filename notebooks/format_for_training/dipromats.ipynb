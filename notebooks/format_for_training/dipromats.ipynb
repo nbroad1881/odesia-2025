{
 "cells": [
  {
   "cell_type": "markdown",
   "metadata": {},
   "source": [
    "[Task 1 - Propaganda Identification](#task-1---propaganda-identification)  \n",
    "[Task 2 - Coarse propaganda characterisation](#task-2---coarse-propaganda-characterisation)  \n",
    "[Task 3 - Fine-grained propaganda characterisation](#task-3---fine-grained-propaganda-characterisation)  "
   ]
  },
  {
   "cell_type": "code",
   "execution_count": 44,
   "metadata": {},
   "outputs": [
    {
     "name": "stdout",
     "output_type": "stream",
     "text": [
      "Loaded .env: True\n"
     ]
    }
   ],
   "source": [
    "import os\n",
    "from pathlib import Path\n",
    "\n",
    "from dotenv import load_dotenv\n",
    "import pandas as pd\n",
    "\n",
    "from prompts import (\n",
    "    prompt_t1_dipromats,\n",
    "    prompt_t2_dipromats,\n",
    "    prompt_t3_dipromats,\n",
    ")\n",
    "\n",
    "print(\"Loaded .env:\", load_dotenv(\"../../.env\", override=True))\n",
    "data_dir = Path(os.environ[\"PROJECT_DIR\"]) / \"data\" / \"host\" / \"dipromats_2023\"\n",
    "\n",
    "SPLIT = \"val\"\n",
    "LANG = \"es\""
   ]
  },
  {
   "cell_type": "markdown",
   "metadata": {},
   "source": [
    "# Task 1 - Propaganda Identification"
   ]
  },
  {
   "cell_type": "code",
   "execution_count": 45,
   "metadata": {},
   "outputs": [
    {
     "name": "stdout",
     "output_type": "stream",
     "text": [
      "You are an excellent assistant at identifying propaganda in tweets. Propaganda is defined as:\n",
      "information, especially of a biased or misleading nature, used to promote or publicize a particular political cause or point of view.\n",
      "\n",
      "After thoroughly reading and analyzing the tweet, respond with either \"true\" or \"false\" to indicate whether or not it is propaganda.\n",
      "\n",
      "Tweet:\n",
      "\n",
      "\n"
     ]
    }
   ],
   "source": [
    "print(prompt_t1_dipromats)"
   ]
  },
  {
   "cell_type": "code",
   "execution_count": 46,
   "metadata": {},
   "outputs": [
    {
     "data": {
      "application/vnd.jupyter.widget-view+json": {
       "model_id": "a8ba36ad3411431f872511c0dff972b0",
       "version_major": 2,
       "version_minor": 0
      },
      "text/plain": [
       "Map:   0%|          | 0/1224 [00:00<?, ? examples/s]"
      ]
     },
     "metadata": {},
     "output_type": "display_data"
    }
   ],
   "source": [
    "import json\n",
    "from datasets import Dataset\n",
    "\n",
    "t1 = json.load(open(data_dir / f\"{SPLIT}_t1_{LANG}.json\"))\n",
    "\n",
    "ds1 = Dataset.from_list(t1)\n",
    "\n",
    "def format_t1(example):\n",
    "\n",
    "    if \"value\" not in example:\n",
    "        response = \"\"\n",
    "    else:\n",
    "        response = example[\"value\"]\n",
    "\n",
    "    return {\n",
    "        \"text\": prompt_t1_dipromats + example[\"text\"],\n",
    "        \"response\": response\n",
    "    }\n",
    "\n",
    "ds1 = ds1.map(format_t1)\n"
   ]
  },
  {
   "cell_type": "code",
   "execution_count": 47,
   "metadata": {},
   "outputs": [
    {
     "data": {
      "text/plain": [
       "{'test_case': 'DIPROMATS2023',\n",
       " 'id': '1178',\n",
       " 'country': 'China',\n",
       " 'user_name': 'li_baorong',\n",
       " 'tweet_type': 'Retweet',\n",
       " 'tweet_id': 1235738204386365440,\n",
       " 'UTC': '2020-03-06 01:25:21+00:00',\n",
       " 'rts&fav': 0,\n",
       " 'language': 'es',\n",
       " 'text': 'You are an excellent assistant at identifying propaganda in tweets. Propaganda is defined as:\\ninformation, especially of a biased or misleading nature, used to promote or publicize a particular political cause or point of view.\\n\\nAfter thoroughly reading and analyzing the tweet, respond with either \"true\" or \"false\" to indicate whether or not it is propaganda.\\n\\nTweet:\\n\\nLa quinta Visita Oficial que realizó el Presidente Chávez a China, fue en el año 2008, fue orador en la séptima Comisión Mixta de Alto Nivel entre China y Venezuela @Ivan_Zerpa @PresidencialVen https://t.co/CJFq9zsBqG',\n",
       " 'value': 'false',\n",
       " 'response': 'false'}"
      ]
     },
     "execution_count": 47,
     "metadata": {},
     "output_type": "execute_result"
    }
   ],
   "source": [
    "ds1.shuffle()[0]"
   ]
  },
  {
   "cell_type": "markdown",
   "metadata": {},
   "source": [
    "# Task 2 - Coarse propaganda characterisation"
   ]
  },
  {
   "cell_type": "code",
   "execution_count": 48,
   "metadata": {},
   "outputs": [
    {
     "name": "stdout",
     "output_type": "stream",
     "text": [
      "You are an excellent assistant at categorizing propaganda in tweets. Propaganda is defined as:\n",
      "information, especially of a biased or misleading nature, used to promote or publicize a particular political cause or point of view.\n",
      "\n",
      "You will need to decide which of the following applies to the tweet. It could be one or more of the following.\n",
      "\n",
      "1. Appeal to commonality. This could be related to the following:\n",
      "  - Ad populum: the tweet appeals to the will, the tradition or the history of a community to support an argument. e.g. \"The leadership of the #CPC is the choice of history and of the Chinese people.\"\n",
      "  - Flag Waving: the tweet includes hyperbolic praise of a nation, worships a patriotic symbol, exhibits self-praise, or portrays someone as a hero. e.g. \"The European Union is the best example, in the history of the world, of conflict resolution.\"\n",
      "2. Discrediting the opponent. This could be related to the following:\n",
      "  - Name Calling/Labelling: the author refers to someone or something with pejorative labels. e.g. \"The #US is the gravest threat to global strategic security and stability\"\n",
      "  - Undiplomatic Assertiveness/Whataboutism: the tweet vilifies an opponent, depicting their behavior as hostile, hypocritical or immoral, displaying undiplomatic contempt. This technique also includes counteraccusations to deviate the attention from sensitive issues. e.g. \"Just another proof that the #MediaFreedom principle is only applied to western or western-paid media. When Euro-NATO governments crack down on #Russian or Russian-language media there's zero reaction from #HumanRights apologists. Bias and double standards\"\n",
      "  - Scapegoating: the tweet transfers the blame to one person, group or institution. e.g. \"What has caused the current difficulties in China-UK relationship? My answer is loud and clear: China has not changed. It is the UK that has changed. The UK side should take full responsibility for the current difficulties.\"\n",
      "  - Propaganda Slinging:the author accuse others of spreading propaganda, disinformation or lies. e.g. \"Pompeo has been churning out lies wherever he goes, spreading political virus across the world.\"\n",
      "  - Personal attacks: the author attacks the personal, private background of an opponent. e.g. \"He tries to appeal to Christian voters, but his real life is anything but Christian. He is a heavy drinker and a compulsive womanizer.\"\n",
      "  - Fear Appeal: the author either seeks to instill fear in the readers about hypothetical situations that an opponent may provoke or aims to intimidate an opponent by warning about the consequences of their actions. e.g. \"We urge the US to stop using the Uighur Human Rights Policy Act of 2020 to harm China's interests. Otherwise, China will resolutely fight back, and the US will bear all the consequences.\"\n",
      "  - Absurdity Appeal: the author characterizes the behavior of an opponent or their ideas as absurd, ridiculous or pathetic. e.g. \"Joe Biden's response to the H1N1 Swine Flu was pathetic. Joe didnt have a clue!\"\n",
      "  - Demonization: the author invokes civic hatred towards an opponent, who is presented as an existential threat. e.g. \"Concast (@NBCNews) and Fake News @CNN are Chinese puppets who want to do business there. They use USA airwaves to help China. The Enemy of the People!\"\n",
      "  - Doubt: The author casts doubt on the credibility or honesty of someone. e.g. \"Growing doubts over the US government's handling of the #COVID19, e.g. When did the first infection occur in the US? Is the US government hiding something? Why they opt to blame others?\"\n",
      "  - Reductio ad Hitlerum: the tweets try to persuade an audience to disapprove an action or idea from an opponent by associating it with someone or something that is hated by the audience. e.g. \"The CPC has 90 million members, plus their families, the data has at least 270 million. Infringing these elites is directly against the Chinese people. Don't forget Hitler's evil history of persecution and massacres of German Communists and Jews.Stop NEW horrible fascists!\"\n",
      "3. Loaded Language. This mainly concerns hyperbolic language, evocative metaphors and words with strong emotional connotations. For example: \"this monumental achievement left a tremendous mark in history!\"\n",
      "4. Appeal to Authority. \n",
      "  - Appeal to false authority: Tweet includes a third person or institution to support an idea, message, or behavior for which they should not be considered as a valid expert. e.g. \"A voice of a Pakistani student's wife tells real situation about the coronavirus in China. Trust the Chinese Government. No panic!\"\n",
      "  - Bandwagoning: The author seeks to persuade someone to join a course of action because someone else is doing it. e.g. \"Germany took strong action today against Hizballah. We call on #EU member states to follow suit in holding Hizballah accountable.\"\n",
      "\n",
      "If none of the four categories above apply, respond \"false\" to indicate it is not propaganda.\n",
      "\n",
      "After thoroughly reading and analyzing the tweet, choose one or more of the above categories, and if none of the four applies, choose option 5:\n",
      "\n",
      "1 appeal to commonality\n",
      "2 discrediting the opponent\n",
      "3 loaded language\n",
      "4 appeal to authority\n",
      "5 not propaganda\n",
      "\n",
      "Tweet:\n",
      "\n",
      "\n"
     ]
    }
   ],
   "source": [
    "print(prompt_t2_dipromats)"
   ]
  },
  {
   "cell_type": "code",
   "execution_count": 49,
   "metadata": {},
   "outputs": [
    {
     "data": {
      "application/vnd.jupyter.widget-view+json": {
       "model_id": "c76780ecce9249319efc5e4f572895ad",
       "version_major": 2,
       "version_minor": 0
      },
      "text/plain": [
       "Map:   0%|          | 0/1224 [00:00<?, ? examples/s]"
      ]
     },
     "metadata": {},
     "output_type": "display_data"
    }
   ],
   "source": [
    "t2 = json.load(open(data_dir / f\"{SPLIT}_t2_{LANG}.json\"))\n",
    "\n",
    "ds2 = Dataset.from_list(t2)\n",
    "\n",
    "def format_t2(example):\n",
    "\n",
    "    mapping = {\"false\": \"5 not_propaganda\"}\n",
    "\n",
    "    if \"value\" not in example:\n",
    "        response = \"\"\n",
    "    else:\n",
    "        labels = [mapping.get(x, x) for x in  example[\"value\"]]\n",
    "        response = \"\\n\".join(sorted(labels))\n",
    "\n",
    "    return {\n",
    "        \"text\": prompt_t2_dipromats + example[\"text\"],\n",
    "        \"response\": response\n",
    "    }\n",
    "\n",
    "\n",
    "ds2 = ds2.map(format_t2)\n"
   ]
  },
  {
   "cell_type": "code",
   "execution_count": 50,
   "metadata": {},
   "outputs": [
    {
     "name": "stdout",
     "output_type": "stream",
     "text": [
      "{'test_case': 'DIPROMATS2023', 'id': '3525', 'country': 'Russia', 'user_name': 'mae_rusia', 'tweet_type': 'Tweet', 'tweet_id': 1266032084361019394, 'UTC': '2020-05-28 15:42:25+00:00', 'rts&fav': 7, 'language': 'es', 'text': 'You are an excellent assistant at categorizing propaganda in tweets. Propaganda is defined as:\\ninformation, especially of a biased or misleading nature, used to promote or publicize a particular political cause or point of view.\\n\\nYou will need to decide which of the following applies to the tweet. It could be one or more of the following.\\n\\n1. Appeal to commonality. This could be related to the following:\\n  - Ad populum: the tweet appeals to the will, the tradition or the history of a community to support an argument. e.g. \"The leadership of the #CPC is the choice of history and of the Chinese people.\"\\n  - Flag Waving: the tweet includes hyperbolic praise of a nation, worships a patriotic symbol, exhibits self-praise, or portrays someone as a hero. e.g. \"The European Union is the best example, in the history of the world, of conflict resolution.\"\\n2. Discrediting the opponent. This could be related to the following:\\n  - Name Calling/Labelling: the author refers to someone or something with pejorative labels. e.g. \"The #US is the gravest threat to global strategic security and stability\"\\n  - Undiplomatic Assertiveness/Whataboutism: the tweet vilifies an opponent, depicting their behavior as hostile, hypocritical or immoral, displaying undiplomatic contempt. This technique also includes counteraccusations to deviate the attention from sensitive issues. e.g. \"Just another proof that the #MediaFreedom principle is only applied to western or western-paid media. When Euro-NATO governments crack down on #Russian or Russian-language media there\\'s zero reaction from #HumanRights apologists. Bias and double standards\"\\n  - Scapegoating: the tweet transfers the blame to one person, group or institution. e.g. \"What has caused the current difficulties in China-UK relationship? My answer is loud and clear: China has not changed. It is the UK that has changed. The UK side should take full responsibility for the current difficulties.\"\\n  - Propaganda Slinging:the author accuse others of spreading propaganda, disinformation or lies. e.g. \"Pompeo has been churning out lies wherever he goes, spreading political virus across the world.\"\\n  - Personal attacks: the author attacks the personal, private background of an opponent. e.g. \"He tries to appeal to Christian voters, but his real life is anything but Christian. He is a heavy drinker and a compulsive womanizer.\"\\n  - Fear Appeal: the author either seeks to instill fear in the readers about hypothetical situations that an opponent may provoke or aims to intimidate an opponent by warning about the consequences of their actions. e.g. \"We urge the US to stop using the Uighur Human Rights Policy Act of 2020 to harm China\\'s interests. Otherwise, China will resolutely fight back, and the US will bear all the consequences.\"\\n  - Absurdity Appeal: the author characterizes the behavior of an opponent or their ideas as absurd, ridiculous or pathetic. e.g. \"Joe Biden\\'s response to the H1N1 Swine Flu was pathetic. Joe didnt have a clue!\"\\n  - Demonization: the author invokes civic hatred towards an opponent, who is presented as an existential threat. e.g. \"Concast (@NBCNews) and Fake News @CNN are Chinese puppets who want to do business there. They use USA airwaves to help China. The Enemy of the People!\"\\n  - Doubt: The author casts doubt on the credibility or honesty of someone. e.g. \"Growing doubts over the US government\\'s handling of the #COVID19, e.g. When did the first infection occur in the US? Is the US government hiding something? Why they opt to blame others?\"\\n  - Reductio ad Hitlerum: the tweets try to persuade an audience to disapprove an action or idea from an opponent by associating it with someone or something that is hated by the audience. e.g. \"The CPC has 90 million members, plus their families, the data has at least 270 million. Infringing these elites is directly against the Chinese people. Don\\'t forget Hitler\\'s evil history of persecution and massacres of German Communists and Jews.Stop NEW horrible fascists!\"\\n3. Loaded Language. This mainly concerns hyperbolic language, evocative metaphors and words with strong emotional connotations. For example: \"this monumental achievement left a tremendous mark in history!\"\\n4. Appeal to Authority. \\n  - Appeal to false authority: Tweet includes a third person or institution to support an idea, message, or behavior for which they should not be considered as a valid expert. e.g. \"A voice of a Pakistani student\\'s wife tells real situation about the coronavirus in China. Trust the Chinese Government. No panic!\"\\n  - Bandwagoning: The author seeks to persuade someone to join a course of action because someone else is doing it. e.g. \"Germany took strong action today against Hizballah. We call on #EU member states to follow suit in holding Hizballah accountable.\"\\n\\nIf none of the four categories above apply, respond \"false\" to indicate it is not propaganda.\\n\\nAfter thoroughly reading and analyzing the tweet, choose one or more of the above categories, and if none of the four applies, choose option 5:\\n\\n1 appeal to commonality\\n2 discrediting the opponent\\n3 loaded language\\n4 appeal to authority\\n5 not propaganda\\n\\nTweet:\\n\\n#Zajárova: Una persistente aversión de la clase política estadounidense hacia Irán supera la responsabilidad legal ante los socios y el desvelo por su propia reputación. Da la impresión de que Washington está poseído por el deseo de abortar el #PAIC https://t.co/a1YVGe7jCI', 'value': ['2 discrediting the opponent', '3 loaded language'], 'response': '2 discrediting the opponent\\n3 loaded language'}\n"
     ]
    }
   ],
   "source": [
    "import random\n",
    "\n",
    "\n",
    "while True:\n",
    "    x = random.choice(ds2)\n",
    "\n",
    "    if \"value\" not in x:\n",
    "        break\n",
    "\n",
    "    if len(x[\"value\"]) > 1:\n",
    "        break\n",
    "\n",
    "print(x)"
   ]
  },
  {
   "cell_type": "markdown",
   "metadata": {},
   "source": [
    "# Task 3 - Fine-grained propaganda characterisation"
   ]
  },
  {
   "cell_type": "code",
   "execution_count": 51,
   "metadata": {},
   "outputs": [
    {
     "name": "stdout",
     "output_type": "stream",
     "text": [
      "You are an excellent assistant at categorizing propaganda in tweets. Propaganda is defined as:\n",
      "information, especially of a biased or misleading nature, used to promote or publicize a particular political cause or point of view.\n",
      "\n",
      "You will need to decide which of the following applies to the tweet. It could be one or more of the following.\n",
      "\n",
      "A. Appeal to commonality - Ad populum: the tweet appeals to the will, the tradition or the history of a community to support an argument. e.g. \"The leadership of the #CPC is the choice of history and of the Chinese people.\"\n",
      "B. Appeal to commonality - Flag Waving: the tweet includes hyperbolic praise of a nation, worships a patriotic symbol, exhibits self-praise, or portrays someone as a hero. e.g. \"The European Union is the best example, in the history of the world, of conflict resolution.\"\n",
      "C. Discrediting the opponent - Name Calling/Labelling: the author refers to someone or something with pejorative labels. e.g. \"The #US is the gravest threat to global strategic security and stability\"\n",
      "D. Discrediting the opponent - Undiplomatic Assertiveness/Whataboutism: the tweet vilifies an opponent, depicting their behavior as hostile, hypocritical or immoral, displaying undiplomatic contempt. This technique also includes counteraccusations to deviate the attention from sensitive issues. e.g. \"Just another proof that the #MediaFreedom principle is only applied to western or western-paid media. When Euro-NATO governments crack down on #Russian or Russian-language media there's zero reaction from #HumanRights apologists. Bias and double standards\"\n",
      "E. Discrediting the opponent - Scapegoating: the tweet transfers the blame to one person, group or institution. e.g. \"What has caused the current difficulties in China-UK relationship? My answer is loud and clear: China has not changed. It is the UK that has changed. The UK side should take full responsibility for the current difficulties.\"\n",
      "F. Discrediting the opponent - Propaganda Slinging:the author accuse others of spreading propaganda, disinformation or lies. e.g. \"Pompeo has been churning out lies wherever he goes, spreading political virus across the world.\"\n",
      "G. Discrediting the opponent - Personal attacks: the author attacks the personal, private background of an opponent. e.g. \"He tries to appeal to Christian voters, but his real life is anything but Christian. He is a heavy drinker and a compulsive womanizer.\"\n",
      "H. Discrediting the opponent - Fear Appeals: the author either seeks to instill fear in the readers about hypothetical situations that an opponent may provoke or aims to intimidate an opponent by warning about the consequences of their actions. e.g. \"We urge the US to stop using the Uighur Human Rights Policy Act of 2020 to harm China's interests. Otherwise, China will resolutely fight back, and the US will bear all the consequences.\"\n",
      "I. Discrediting the opponent - Absurdity Appeal: the author characterizes the behavior of an opponent or their ideas as absurd, ridiculous or pathetic. e.g. \"Joe Biden's response to the H1N1 Swine Flu was pathetic. Joe didnt have a clue!\"\n",
      "J. Discrediting the opponent - Demonization: the author invokes civic hatred towards an opponent, who is presented as an existential threat. e.g. \"Concast (@NBCNews) and Fake News @CNN are Chinese puppets who want to do business there. They use USA airwaves to help China. The Enemy of the People!\"\n",
      "K. Discrediting the opponent - Doubt: The author casts doubt on the credibility or honesty of someone. e.g. \"Growing doubts over the US government's handling of the #COVID19, e.g. When did the first infection occur in the US? Is the US government hiding something? Why they opt to blame others?\"\n",
      "L. Discrediting the opponent - Reductio ad Hitlerum: the tweets try to persuade an audience to disapprove an action or idea from an opponent by associating it with someone or something that is hated by the audience. e.g. \"The CPC has 90 million members, plus their families, the data has at least 270 million. Infringing these elites is directly against the Chinese people. Don't forget Hitler's evil history of persecution and massacres of German Communists and Jews.Stop NEW horrible fascists!\"\n",
      "M. Loaded Language. This mainly concerns hyperbolic language, evocative metaphors and words with strong emotional connotations. For example: \"this monumental achievement left a tremendous mark in history!\"\n",
      "N. Appeal to Authority - Appeal to false authority: Tweet includes a third person or institution to support an idea, message, or behavior for which they should not be considered as a valid expert. e.g. \"A voice of a Pakistani student's wife tells real situation about the coronavirus in China. Trust the Chinese Government. No panic!\"\n",
      "O. Appeal to Authority - Bandwagoning: The author seeks to persuade someone to join a course of action because someone else is doing it. e.g. \"Germany took strong action today against Hizballah. We call on #EU member states to follow suit in holding Hizballah accountable.\"\n",
      "\n",
      "If none of the four categories above apply, respond \"false\" to indicate it is not propaganda.\n",
      "\n",
      "After thoroughly reading and analyzing the tweet, choose one or more of the above categories, unless if none of options A-O applies, choose option P:\n",
      "\n",
      "A appeal to commonality - ad populum\n",
      "B appeal to commonality - flag waving\n",
      "C discrediting the opponent - name calling\n",
      "D discrediting the opponent - undiplomatic assertiveness/whataboutism\n",
      "E discrediting the opponent - scapegoating\n",
      "F discrediting the opponent - propaganda slinging\n",
      "G discrediting the opponent - personal attacks\n",
      "H discrediting the opponent - fear appeals\n",
      "I discrediting the opponent - absurdity appeal\n",
      "J discrediting the opponent - demonization\n",
      "K discrediting the opponent - doubt\n",
      "L discrediting the opponent - reductio ad hitlerum\n",
      "M loaded language\n",
      "N appeal to authority - appeal to false authority\n",
      "O appeal to authority - bandwagoning\n",
      "P not propaganda\n",
      "\n",
      "Tweet:\n",
      "\n",
      "\n"
     ]
    }
   ],
   "source": [
    "print(prompt_t3_dipromats)"
   ]
  },
  {
   "cell_type": "code",
   "execution_count": 52,
   "metadata": {},
   "outputs": [
    {
     "data": {
      "application/vnd.jupyter.widget-view+json": {
       "model_id": "ca58fc8765b84c6aa408ae5ff287cc92",
       "version_major": 2,
       "version_minor": 0
      },
      "text/plain": [
       "Map:   0%|          | 0/1224 [00:00<?, ? examples/s]"
      ]
     },
     "metadata": {},
     "output_type": "display_data"
    }
   ],
   "source": [
    "t3 = json.load(open(data_dir / f\"{SPLIT}_t3_{LANG}.json\"))\n",
    "\n",
    "ds3 = Dataset.from_list(t3)\n",
    "\n",
    "char2label = {\"A\": \"appeal to commonality - ad populum\",\n",
    "\"B\": \"appeal to commonality - flag waving\",\n",
    "\"C\": \"discrediting the opponent - name calling\",\n",
    "\"D\": \"discrediting the opponent - undiplomatic assertiveness/whataboutism\",\n",
    "\"E\": \"discrediting the opponent - scapegoating\",\n",
    "\"F\": \"discrediting the opponent - propaganda slinging\",\n",
    "\"G\": \"discrediting the opponent - personal attacks\",\n",
    "\"H\": \"discrediting the opponent - fear appeals\",\n",
    "\"I\": \"discrediting the opponent - absurdity appeal\",\n",
    "\"J\": \"discrediting the opponent - demonization\",\n",
    "\"K\": \"discrediting the opponent - doubt\",\n",
    "\"L\": \"discrediting the opponent - reductio ad hitlerum\",\n",
    "\"M\": \"loaded language\",\n",
    "\"N\": \"appeal to authority - appeal to false authority\",\n",
    "\"O\": \"appeal to authority - bandwagoning\",\n",
    "\"P\": \"not propaganda\",\n",
    "}\n",
    "label2char = {v:k for k,v in char2label.items()}\n",
    "\n",
    "def format_t3(example):\n",
    "\n",
    "    if \"value\" not in example:\n",
    "        response = \"\"\n",
    "    else:\n",
    "        labels = []\n",
    "\n",
    "        for x in example[\"value\"]:\n",
    "            if x[0].isdigit():\n",
    "                x = x[1:].strip()\n",
    "            if x == \"false\":\n",
    "                x = \"not propaganda\"\n",
    "\n",
    "            if \"(\" in x:\n",
    "                x = x.split(\"(\")[0].strip()\n",
    "            \n",
    "            labels.append(label2char[x] + \" \" + x)\n",
    "\n",
    "        response = \"\\n\".join(sorted(labels))\n",
    "\n",
    "    return {\n",
    "        \"text\": prompt_t3_dipromats + example[\"text\"],\n",
    "        \"response\": response\n",
    "    }\n",
    "\n",
    "ds3 = ds3.map(format_t3)"
   ]
  },
  {
   "cell_type": "code",
   "execution_count": 53,
   "metadata": {},
   "outputs": [
    {
     "name": "stdout",
     "output_type": "stream",
     "text": [
      "{'test_case': 'DIPROMATS2023', 'id': '4768', 'country': 'USA', 'user_name': 'usembassyve', 'tweet_type': 'quoted', 'tweet_id': 1283480674125709314, 'UTC': '2020-07-15 19:16:53+00:00', 'rts&fav': 906, 'language': 'es', 'text': 'You are an excellent assistant at categorizing propaganda in tweets. Propaganda is defined as:\\ninformation, especially of a biased or misleading nature, used to promote or publicize a particular political cause or point of view.\\n\\nYou will need to decide which of the following applies to the tweet. It could be one or more of the following.\\n\\nA. Appeal to commonality - Ad populum: the tweet appeals to the will, the tradition or the history of a community to support an argument. e.g. \"The leadership of the #CPC is the choice of history and of the Chinese people.\"\\nB. Appeal to commonality - Flag Waving: the tweet includes hyperbolic praise of a nation, worships a patriotic symbol, exhibits self-praise, or portrays someone as a hero. e.g. \"The European Union is the best example, in the history of the world, of conflict resolution.\"\\nC. Discrediting the opponent - Name Calling/Labelling: the author refers to someone or something with pejorative labels. e.g. \"The #US is the gravest threat to global strategic security and stability\"\\nD. Discrediting the opponent - Undiplomatic Assertiveness/Whataboutism: the tweet vilifies an opponent, depicting their behavior as hostile, hypocritical or immoral, displaying undiplomatic contempt. This technique also includes counteraccusations to deviate the attention from sensitive issues. e.g. \"Just another proof that the #MediaFreedom principle is only applied to western or western-paid media. When Euro-NATO governments crack down on #Russian or Russian-language media there\\'s zero reaction from #HumanRights apologists. Bias and double standards\"\\nE. Discrediting the opponent - Scapegoating: the tweet transfers the blame to one person, group or institution. e.g. \"What has caused the current difficulties in China-UK relationship? My answer is loud and clear: China has not changed. It is the UK that has changed. The UK side should take full responsibility for the current difficulties.\"\\nF. Discrediting the opponent - Propaganda Slinging:the author accuse others of spreading propaganda, disinformation or lies. e.g. \"Pompeo has been churning out lies wherever he goes, spreading political virus across the world.\"\\nG. Discrediting the opponent - Personal attacks: the author attacks the personal, private background of an opponent. e.g. \"He tries to appeal to Christian voters, but his real life is anything but Christian. He is a heavy drinker and a compulsive womanizer.\"\\nH. Discrediting the opponent - Fear Appeals: the author either seeks to instill fear in the readers about hypothetical situations that an opponent may provoke or aims to intimidate an opponent by warning about the consequences of their actions. e.g. \"We urge the US to stop using the Uighur Human Rights Policy Act of 2020 to harm China\\'s interests. Otherwise, China will resolutely fight back, and the US will bear all the consequences.\"\\nI. Discrediting the opponent - Absurdity Appeal: the author characterizes the behavior of an opponent or their ideas as absurd, ridiculous or pathetic. e.g. \"Joe Biden\\'s response to the H1N1 Swine Flu was pathetic. Joe didnt have a clue!\"\\nJ. Discrediting the opponent - Demonization: the author invokes civic hatred towards an opponent, who is presented as an existential threat. e.g. \"Concast (@NBCNews) and Fake News @CNN are Chinese puppets who want to do business there. They use USA airwaves to help China. The Enemy of the People!\"\\nK. Discrediting the opponent - Doubt: The author casts doubt on the credibility or honesty of someone. e.g. \"Growing doubts over the US government\\'s handling of the #COVID19, e.g. When did the first infection occur in the US? Is the US government hiding something? Why they opt to blame others?\"\\nL. Discrediting the opponent - Reductio ad Hitlerum: the tweets try to persuade an audience to disapprove an action or idea from an opponent by associating it with someone or something that is hated by the audience. e.g. \"The CPC has 90 million members, plus their families, the data has at least 270 million. Infringing these elites is directly against the Chinese people. Don\\'t forget Hitler\\'s evil history of persecution and massacres of German Communists and Jews.Stop NEW horrible fascists!\"\\nM. Loaded Language. This mainly concerns hyperbolic language, evocative metaphors and words with strong emotional connotations. For example: \"this monumental achievement left a tremendous mark in history!\"\\nN. Appeal to Authority - Appeal to false authority: Tweet includes a third person or institution to support an idea, message, or behavior for which they should not be considered as a valid expert. e.g. \"A voice of a Pakistani student\\'s wife tells real situation about the coronavirus in China. Trust the Chinese Government. No panic!\"\\nO. Appeal to Authority - Bandwagoning: The author seeks to persuade someone to join a course of action because someone else is doing it. e.g. \"Germany took strong action today against Hizballah. We call on #EU member states to follow suit in holding Hizballah accountable.\"\\n\\nIf none of the four categories above apply, respond \"false\" to indicate it is not propaganda.\\n\\nAfter thoroughly reading and analyzing the tweet, choose one or more of the above categories, unless if none of options A-O applies, choose option P:\\n\\nA appeal to commonality - ad populum\\nB appeal to commonality - flag waving\\nC discrediting the opponent - name calling\\nD discrediting the opponent - undiplomatic assertiveness/whataboutism\\nE discrediting the opponent - scapegoating\\nF discrediting the opponent - propaganda slinging\\nG discrediting the opponent - personal attacks\\nH discrediting the opponent - fear appeals\\nI discrediting the opponent - absurdity appeal\\nJ discrediting the opponent - demonization\\nK discrediting the opponent - doubt\\nL discrediting the opponent - reductio ad hitlerum\\nM loaded language\\nN appeal to authority - appeal to false authority\\nO appeal to authority - bandwagoning\\nP not propaganda\\n\\nTweet:\\n\\nEl informe de #ACNUDH publicado hoy detalla las violaciones ilegítimas de #DDHH del régimen de Maduro en #Venezuela. Maduro y sus matones siguen erosionando la democracia y despojando a la tierra de sus recursos naturales. EE.UU. pide el fin de la corrupción y la violencia. https://t.co/BpmiwkMVww', 'value': ['2 discrediting the opponent - name calling', '2 discrediting the opponent - undiplomatic assertiveness/whataboutism', '2 discrediting the opponent - demonization'], 'response': 'C discrediting the opponent - name calling\\nD discrediting the opponent - undiplomatic assertiveness/whataboutism\\nJ discrediting the opponent - demonization'}\n"
     ]
    }
   ],
   "source": [
    "while True:\n",
    "    x = random.choice(ds3)\n",
    "    if \"value\" not in x:\n",
    "        break\n",
    "    if len(x[\"value\"]) > 1:\n",
    "        break\n",
    "\n",
    "print(x)"
   ]
  },
  {
   "cell_type": "code",
   "execution_count": 54,
   "metadata": {},
   "outputs": [
    {
     "data": {
      "application/vnd.jupyter.widget-view+json": {
       "model_id": "da9cf10ec73740b2b1c5884b22a1ceaa",
       "version_major": 2,
       "version_minor": 0
      },
      "text/plain": [
       "Creating parquet from Arrow format:   0%|          | 0/2 [00:00<?, ?ba/s]"
      ]
     },
     "metadata": {},
     "output_type": "display_data"
    },
    {
     "data": {
      "application/vnd.jupyter.widget-view+json": {
       "model_id": "7bd7bc7e42134fa3b40772e57597c8d1",
       "version_major": 2,
       "version_minor": 0
      },
      "text/plain": [
       "Creating parquet from Arrow format:   0%|          | 0/2 [00:00<?, ?ba/s]"
      ]
     },
     "metadata": {},
     "output_type": "display_data"
    },
    {
     "data": {
      "application/vnd.jupyter.widget-view+json": {
       "model_id": "4ef7241fb7c2455497866e34399458de",
       "version_major": 2,
       "version_minor": 0
      },
      "text/plain": [
       "Creating parquet from Arrow format:   0%|          | 0/2 [00:00<?, ?ba/s]"
      ]
     },
     "metadata": {},
     "output_type": "display_data"
    },
    {
     "data": {
      "text/plain": [
       "7635038"
      ]
     },
     "execution_count": 54,
     "metadata": {},
     "output_type": "execute_result"
    }
   ],
   "source": [
    "final_ds_list = []\n",
    "\n",
    "final_cols = [\"text\", \"response\"]\n",
    "\n",
    "ds1.remove_columns([x for x in ds1.column_names if x not in final_cols]).to_parquet(data_dir / f\"{SPLIT}_t1_{LANG}_formatted.parquet\")\n",
    "ds2.remove_columns([x for x in ds2.column_names if x not in final_cols]).to_parquet(data_dir / f\"{SPLIT}_t2_{LANG}_formatted.parquet\")\n",
    "ds3.remove_columns([x for x in ds3.column_names if x not in final_cols]).to_parquet(data_dir / f\"{SPLIT}_t3_{LANG}_formatted.parquet\")"
   ]
  },
  {
   "cell_type": "code",
   "execution_count": 55,
   "metadata": {},
   "outputs": [
    {
     "data": {
      "text/plain": [
       "{'test_case': 'DIPROMATS2023',\n",
       " 'id': '634',\n",
       " 'country': 'China',\n",
       " 'user_name': 'embzhangrun',\n",
       " 'tweet_type': 'Reply',\n",
       " 'tweet_id': 1226495390872227841,\n",
       " 'UTC': '2020-02-09 13:17:43+00:00',\n",
       " 'rts&fav': 4,\n",
       " 'language': 'es',\n",
       " 'text': '@CristianRosaR @MeraCJ74 @PedroMCasals @StateDept En cuanto a la comunidad China laboriosa acá,  primero es centenaria,  o sea puede ser que llegó antes de sus ancestros y merece su respeto.  Segundo,  está muy unida con su patria y orgullosa del desarrollo de su patria.',\n",
       " 'value': 'false'}"
      ]
     },
     "execution_count": 55,
     "metadata": {},
     "output_type": "execute_result"
    }
   ],
   "source": [
    "t1[0]"
   ]
  },
  {
   "cell_type": "code",
   "execution_count": 56,
   "metadata": {},
   "outputs": [
    {
     "data": {
      "text/plain": [
       "{'test_case': 'DIPROMATS2023',\n",
       " 'id': '634',\n",
       " 'country': 'China',\n",
       " 'user_name': 'embzhangrun',\n",
       " 'tweet_type': 'Reply',\n",
       " 'tweet_id': 1226495390872227841,\n",
       " 'UTC': '2020-02-09 13:17:43+00:00',\n",
       " 'rts&fav': 4,\n",
       " 'language': 'es',\n",
       " 'text': '@CristianRosaR @MeraCJ74 @PedroMCasals @StateDept En cuanto a la comunidad China laboriosa acá,  primero es centenaria,  o sea puede ser que llegó antes de sus ancestros y merece su respeto.  Segundo,  está muy unida con su patria y orgullosa del desarrollo de su patria.',\n",
       " 'value': ['false']}"
      ]
     },
     "execution_count": 56,
     "metadata": {},
     "output_type": "execute_result"
    }
   ],
   "source": [
    "t2[0]"
   ]
  },
  {
   "cell_type": "code",
   "execution_count": 57,
   "metadata": {},
   "outputs": [
    {
     "data": {
      "text/plain": [
       "{'test_case': 'DIPROMATS2023',\n",
       " 'id': '634',\n",
       " 'country': 'China',\n",
       " 'user_name': 'embzhangrun',\n",
       " 'tweet_type': 'Reply',\n",
       " 'tweet_id': 1226495390872227841,\n",
       " 'UTC': '2020-02-09 13:17:43+00:00',\n",
       " 'rts&fav': 4,\n",
       " 'language': 'es',\n",
       " 'text': '@CristianRosaR @MeraCJ74 @PedroMCasals @StateDept En cuanto a la comunidad China laboriosa acá,  primero es centenaria,  o sea puede ser que llegó antes de sus ancestros y merece su respeto.  Segundo,  está muy unida con su patria y orgullosa del desarrollo de su patria.',\n",
       " 'value': ['false']}"
      ]
     },
     "execution_count": 57,
     "metadata": {},
     "output_type": "execute_result"
    }
   ],
   "source": [
    "t3[0]"
   ]
  },
  {
   "cell_type": "code",
   "execution_count": 58,
   "metadata": {},
   "outputs": [],
   "source": [
    "for x, y, z in zip(t1, t2, t3):\n",
    "    val = x[\"text\"]\n",
    "    if not all([y[\"text\"] == val, z[\"text\"] == val]):\n",
    "        print(x[\"text\"], y[\"text\"], z[\"text\"])"
   ]
  }
 ],
 "metadata": {
  "kernelspec": {
   "display_name": "Python 3",
   "language": "python",
   "name": "python3"
  },
  "language_info": {
   "codemirror_mode": {
    "name": "ipython",
    "version": 3
   },
   "file_extension": ".py",
   "mimetype": "text/x-python",
   "name": "python",
   "nbconvert_exporter": "python",
   "pygments_lexer": "ipython3",
   "version": "3.10.13"
  }
 },
 "nbformat": 4,
 "nbformat_minor": 2
}
