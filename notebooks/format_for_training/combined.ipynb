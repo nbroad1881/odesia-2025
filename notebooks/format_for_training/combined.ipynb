{
 "cells": [
  {
   "cell_type": "markdown",
   "metadata": {},
   "source": [
    "diann 2023 1 task\n",
    "\n",
    "dipromats 2023 task 3 is most specific out of 1,2,3. thus task 3 can be used on its own\n",
    "\n",
    "exist 2022 task 2 is more specifc than task 1, thus task 2 can be used on its own\n",
    "\n",
    "exist 2023 all 3 tasks required\n",
    "\n",
    "sqac 2024 1 task\n"
   ]
  },
  {
   "cell_type": "code",
   "execution_count": 32,
   "metadata": {},
   "outputs": [
    {
     "name": "stdout",
     "output_type": "stream",
     "text": [
      "Loaded .env: True\n"
     ]
    }
   ],
   "source": [
    "import os\n",
    "from pathlib import Path\n",
    "\n",
    "from dotenv import load_dotenv\n",
    "from datasets import Dataset, concatenate_datasets\n",
    "import pandas as pd\n",
    "\n",
    "print(\"Loaded .env:\", load_dotenv(\"../../.env\", override=True))\n",
    "data_dir = Path(os.environ[\"PROJECT_DIR\"]) / \"data\" / \"host\"\n",
    "\n",
    "LANG = \"en\"\n",
    "SPLIT = 'train'"
   ]
  },
  {
   "cell_type": "code",
   "execution_count": 35,
   "metadata": {},
   "outputs": [],
   "source": [
    "LANG = \"en\"\n",
    "\n",
    "all_ds = [\n",
    "    Dataset.from_parquet(str(data_dir / \"diann_2023\" / f\"{SPLIT}_t1_{LANG}_formatted.parquet\")),\n",
    "    Dataset.from_parquet(str(data_dir / \"dipromats_2023\" / f\"{SPLIT}_t3_{LANG}_formatted.parquet\")),\n",
    "    Dataset.from_parquet(str(data_dir / \"exist_2022\" / f\"{SPLIT}_t2_{LANG}_formatted2.parquet\")),\n",
    "    Dataset.from_parquet(str(data_dir / \"exist_2023\" / f\"{SPLIT}_t1_{LANG}_formatted2.parquet\")),\n",
    "    Dataset.from_parquet(str(data_dir / \"exist_2023\" / f\"{SPLIT}_t2_{LANG}_formatted2.parquet\")),\n",
    "    Dataset.from_parquet(str(data_dir / \"exist_2023\" / f\"{SPLIT}_t3_{LANG}_formatted2.parquet\")),\n",
    "    Dataset.from_parquet(str(data_dir / \"sqac_squad_2024\" / f\"{SPLIT}_t1_{LANG}_formatted.parquet\")).shuffle().select(range(10000)),\n",
    "]\n",
    "\n",
    "LANG = \"es\"\n",
    "all_ds2 = [\n",
    "    Dataset.from_parquet(str(data_dir / \"diann_2023\" / f\"{SPLIT}_t1_{LANG}_formatted.parquet\")),\n",
    "    Dataset.from_parquet(str(data_dir / \"dipromats_2023\" / f\"{SPLIT}_t3_{LANG}_formatted.parquet\")),\n",
    "    Dataset.from_parquet(str(data_dir / \"exist_2022\" / f\"{SPLIT}_t2_{LANG}_formatted2.parquet\")),\n",
    "    Dataset.from_parquet(str(data_dir / \"exist_2023\" / f\"{SPLIT}_t1_{LANG}_formatted2.parquet\")),\n",
    "    Dataset.from_parquet(str(data_dir / \"exist_2023\" / f\"{SPLIT}_t2_{LANG}_formatted2.parquet\")),\n",
    "    Dataset.from_parquet(str(data_dir / \"exist_2023\" / f\"{SPLIT}_t3_{LANG}_formatted2.parquet\")),\n",
    "    Dataset.from_parquet(str(data_dir / \"sqac_squad_2024\" / f\"{SPLIT}_t1_{LANG}_formatted.parquet\")),\n",
    "]\n",
    "\n",
    "ds = concatenate_datasets(all_ds+all_ds2)"
   ]
  },
  {
   "cell_type": "code",
   "execution_count": 36,
   "metadata": {},
   "outputs": [
    {
     "data": {
      "text/plain": [
       "Dataset({\n",
       "    features: ['text', 'response'],\n",
       "    num_rows: 69123\n",
       "})"
      ]
     },
     "execution_count": 36,
     "metadata": {},
     "output_type": "execute_result"
    }
   ],
   "source": [
    "ds"
   ]
  },
  {
   "cell_type": "code",
   "execution_count": 4,
   "metadata": {},
   "outputs": [
    {
     "name": "stdout",
     "output_type": "stream",
     "text": [
      "{'text': 'You are an excellent assistant at categorizing propaganda in tweets. Propaganda is defined as:\\ninformation, especially of a biased or misleading nature, used to promote or publicize a particular political cause or point of view.\\n\\nYou will need to decide which of the following applies to the tweet. It could be one or more of the following.\\n\\nA. Appeal to commonality - Ad populum: the tweet appeals to the will, the tradition or the history of a community to support an argument. e.g. \"The leadership of the #CPC is the choice of history and of the Chinese people.\"\\nB. Appeal to commonality - Flag Waving: the tweet includes hyperbolic praise of a nation, worships a patriotic symbol, exhibits self-praise, or portrays someone as a hero. e.g. \"The European Union is the best example, in the history of the world, of conflict resolution.\"\\nC. Discrediting the opponent - Name Calling/Labelling: the author refers to someone or something with pejorative labels. e.g. \"The #US is the gravest threat to global strategic security and stability\"\\nD. Discrediting the opponent - Undiplomatic Assertiveness/Whataboutism: the tweet vilifies an opponent, depicting their behavior as hostile, hypocritical or immoral, displaying undiplomatic contempt. This technique also includes counteraccusations to deviate the attention from sensitive issues. e.g. \"Just another proof that the #MediaFreedom principle is only applied to western or western-paid media. When Euro-NATO governments crack down on #Russian or Russian-language media there\\'s zero reaction from #HumanRights apologists. Bias and double standards\"\\nE. Discrediting the opponent - Scapegoating: the tweet transfers the blame to one person, group or institution. e.g. \"What has caused the current difficulties in China-UK relationship? My answer is loud and clear: China has not changed. It is the UK that has changed. The UK side should take full responsibility for the current difficulties.\"\\nF. Discrediting the opponent - Propaganda Slinging:the author accuse others of spreading propaganda, disinformation or lies. e.g. \"Pompeo has been churning out lies wherever he goes, spreading political virus across the world.\"\\nG. Discrediting the opponent - Personal attacks: the author attacks the personal, private background of an opponent. e.g. \"He tries to appeal to Christian voters, but his real life is anything but Christian. He is a heavy drinker and a compulsive womanizer.\"\\nH. Discrediting the opponent - Fear Appeals: the author either seeks to instill fear in the readers about hypothetical situations that an opponent may provoke or aims to intimidate an opponent by warning about the consequences of their actions. e.g. \"We urge the US to stop using the Uighur Human Rights Policy Act of 2020 to harm China\\'s interests. Otherwise, China will resolutely fight back, and the US will bear all the consequences.\"\\nI. Discrediting the opponent - Absurdity Appeal: the author characterizes the behavior of an opponent or their ideas as absurd, ridiculous or pathetic. e.g. \"Joe Biden\\'s response to the H1N1 Swine Flu was pathetic. Joe didnt have a clue!\"\\nJ. Discrediting the opponent - Demonization: the author invokes civic hatred towards an opponent, who is presented as an existential threat. e.g. \"Concast (@NBCNews) and Fake News @CNN are Chinese puppets who want to do business there. They use USA airwaves to help China. The Enemy of the People!\"\\nK. Discrediting the opponent - Doubt: The author casts doubt on the credibility or honesty of someone. e.g. \"Growing doubts over the US government\\'s handling of the #COVID19, e.g. When did the first infection occur in the US? Is the US government hiding something? Why they opt to blame others?\"\\nL. Discrediting the opponent - Reductio ad Hitlerum: the tweets try to persuade an audience to disapprove an action or idea from an opponent by associating it with someone or something that is hated by the audience. e.g. \"The CPC has 90 million members, plus their families, the data has at least 270 million. Infringing these elites is directly against the Chinese people. Don\\'t forget Hitler\\'s evil history of persecution and massacres of German Communists and Jews.Stop NEW horrible fascists!\"\\nM. Loaded Language. This mainly concerns hyperbolic language, evocative metaphors and words with strong emotional connotations. For example: \"this monumental achievement left a tremendous mark in history!\"\\nN. Appeal to Authority - Appeal to false authority: Tweet includes a third person or institution to support an idea, message, or behavior for which they should not be considered as a valid expert. e.g. \"A voice of a Pakistani student\\'s wife tells real situation about the coronavirus in China. Trust the Chinese Government. No panic!\"\\nO. Appeal to Authority - Bandwagoning: The author seeks to persuade someone to join a course of action because someone else is doing it. e.g. \"Germany took strong action today against Hizballah. We call on #EU member states to follow suit in holding Hizballah accountable.\"\\n\\nIf none of the four categories above apply, respond \"false\" to indicate it is not propaganda.\\n\\nAfter thoroughly reading and analyzing the tweet, choose one or more of the above categories, unless if none of options A-O applies, choose option P:\\n\\nA appeal to commonality - ad populum\\nB appeal to commonality - flag waving\\nC discrediting the opponent - name calling\\nD discrediting the opponent - undiplomatic assertiveness/whataboutism\\nE discrediting the opponent - scapegoating\\nF discrediting the opponent - propaganda slinging\\nG discrediting the opponent - personal attacks\\nH discrediting the opponent - fear appeals\\nI discrediting the opponent - absurdity appeal\\nJ discrediting the opponent - demonization\\nK discrediting the opponent - doubt\\nL discrediting the opponent - reductio ad hitlerum\\nM loaded language\\nN appeal to authority - appeal to false authority\\nO appeal to authority - bandwagoning\\nP not propaganda\\n\\nTweet:\\n\\nEn español:  Los pilares de la #desinformación y la propaganda de #Rusia: canales y plataformas de comunicación oficiales, proxy y no atribuidos que Rusia utiliza para crear y amplificar narrativas falsas.  Informe de  @StateDept  https://t.co/7AenLrnt5Y https://t.co/whEBNsYukG', 'response': ''}\n"
     ]
    }
   ],
   "source": [
    "import random\n",
    "\n",
    "print(random.choice(ds))"
   ]
  },
  {
   "cell_type": "code",
   "execution_count": 25,
   "metadata": {},
   "outputs": [],
   "source": [
    "from transformers import AutoTokenizer\n",
    "\n",
    "llama = AutoTokenizer.from_pretrained(\"unsloth/Llama-3.2-1B-Instruct\")\n",
    "qwen = AutoTokenizer.from_pretrained(\"Qwen/Qwen2.5-1.5B-Instruct\")\n",
    "mistral = AutoTokenizer.from_pretrained(\"mistralai/Ministral-8B-Instruct-2410\")"
   ]
  },
  {
   "cell_type": "code",
   "execution_count": 6,
   "metadata": {},
   "outputs": [
    {
     "data": {
      "text/plain": [
       "[('<s>', 1),\n",
       " ('hello', 29706),\n",
       " ('Ġ', 1032),\n",
       " ('Ċ', 1010),\n",
       " ('1', 1049),\n",
       " ('.', 1046),\n",
       " ('Ġas', 1435),\n",
       " ('df', 7785),\n",
       " ('Ċ', 1010),\n",
       " ('2', 1050),\n",
       " ('.Ċ', 1626),\n",
       " ('3', 1051),\n",
       " ('.Ċ', 1626),\n",
       " ('4', 1052),\n",
       " ('.Ċ', 1626),\n",
       " ('5', 1053),\n",
       " ('.Ċ', 1626),\n",
       " ('6', 1054),\n",
       " ('.Ċ', 1626),\n",
       " ('7', 1055),\n",
       " ('.Ċ', 1626),\n",
       " ('8', 1056),\n",
       " ('.Ċ', 1626),\n",
       " ('9', 1057),\n",
       " ('.Ċ', 1626),\n",
       " ('1', 1049),\n",
       " ('0', 1048),\n",
       " ('.', 1046)]"
      ]
     },
     "execution_count": 6,
     "metadata": {},
     "output_type": "execute_result"
    }
   ],
   "source": [
    "ids = mistral.encode(\"hello \\n1. asdf\\n2.\\n3.\\n4.\\n5.\\n6.\\n7.\\n8.\\n9.\\n10.\")\n",
    "tokens = mistral.convert_ids_to_tokens(ids)\n",
    "\n",
    "list(zip(tokens, ids))"
   ]
  },
  {
   "cell_type": "code",
   "execution_count": 9,
   "metadata": {},
   "outputs": [
    {
     "name": "stdout",
     "output_type": "stream",
     "text": [
      "6389\n"
     ]
    },
    {
     "data": {
      "image/png": "[encoded data removed]",
      "text/plain": [
       "<Figure size 640x480 with 1 Axes>"
      ]
     },
     "metadata": {},
     "output_type": "display_data"
    },
    {
     "name": "stdout",
     "output_type": "stream",
     "text": [
      "6335\n"
     ]
    },
    {
     "data": {
      "image/png": "[encoded data removed]",
      "text/plain": [
       "<Figure size 640x480 with 1 Axes>"
      ]
     },
     "metadata": {},
     "output_type": "display_data"
    },
    {
     "name": "stdout",
     "output_type": "stream",
     "text": [
      "5701\n"
     ]
    },
    {
     "data": {
      "image/png": "[encoded data removed]",
      "text/plain": [
       "<Figure size 640x480 with 1 Axes>"
      ]
     },
     "metadata": {},
     "output_type": "display_data"
    }
   ],
   "source": [
    "import matplotlib.pyplot as plt\n",
    "\n",
    "\n",
    "tokenizers = [llama, qwen, mistral]\n",
    "\n",
    "def tokenize(example, tokenizer):\n",
    "    tokens = tokenizer.apply_chat_template([{\"role\": \"user\", \"content\": example[\"text\"]}, {\"role\": \"assistant\", \"content\":example[\"response\"]}])\n",
    "\n",
    "    return {\n",
    "        \"length\": len(tokens)\n",
    "    }\n",
    "\n",
    "for tokenizer in tokenizers:\n",
    "    temp_ds = ds.map(tokenize, fn_kwargs={\"tokenizer\": tokenizer}, num_proc=10)\n",
    "    print(max(temp_ds[\"length\"]))\n",
    "    plt.hist(temp_ds[\"length\"], bins=100)\n",
    "    plt.show()"
   ]
  },
  {
   "cell_type": "code",
   "execution_count": 31,
   "metadata": {},
   "outputs": [
    {
     "data": {
      "text/plain": [
       "[('A', 1065),\n",
       " ('B', 1066),\n",
       " ('C', 1067),\n",
       " ('D', 1068),\n",
       " ('E', 1069),\n",
       " ('F', 1070),\n",
       " ('G', 1071),\n",
       " ('H', 1072),\n",
       " ('I', 1073),\n",
       " ('J', 1074),\n",
       " ('K', 1075),\n",
       " ('L', 1076),\n",
       " ('M', 1077),\n",
       " ('N', 1078),\n",
       " ('O', 1079),\n",
       " ('P', 1080)]"
      ]
     },
     "execution_count": 31,
     "metadata": {},
     "output_type": "execute_result"
    }
   ],
   "source": [
    "ids = mistral.encode(\"\\nA \\nB \\nC \\nD \\nE \\nF \\nG \\nH \\nI \\nJ \\nK \\nL \\nM \\nN \\nO \\nP\", add_special_tokens=False)\n",
    "tokens = mistral.convert_ids_to_tokens(ids)\n",
    "[x for x in list(zip(tokens, ids)) if x[0] not in {\"Ċ\", \"Ġ\"}]"
   ]
  },
  {
   "cell_type": "code",
   "execution_count": null,
   "metadata": {},
   "outputs": [
    {
     "data": {
      "text/plain": [
       "'<s>[INST]1[/INST]2</s>'"
      ]
     },
     "execution_count": 23,
     "metadata": {},
     "output_type": "execute_result"
    }
   ],
   "source": [
    "tokenizer.apply_chat_template([{\"role\": \"user\", \"content\": \"1\"}, {\"role\": \"assistant\", \"content\": \"2\"}], tokenize=False)"
   ]
  },
  {
   "cell_type": "code",
   "execution_count": 40,
   "metadata": {},
   "outputs": [
    {
     "data": {
      "text/plain": [
       "[1, 3, 1049, 4, 1050, 2]"
      ]
     },
     "execution_count": 40,
     "metadata": {},
     "output_type": "execute_result"
    }
   ],
   "source": [
    "tokenizer.apply_chat_template([{\"role\": \"user\", \"content\": \"1\"}, {\"role\": \"assistant\", \"content\": \"2\"}])"
   ]
  },
  {
   "cell_type": "code",
   "execution_count": 61,
   "metadata": {},
   "outputs": [],
   "source": [
    "dataset_names = []\n",
    "names = [\"diann\", \"dipromats\", \"exist2022\", \"exist2023\", \"exist2023\", \"exist2023\", \"sqac\"]\n",
    "\n",
    "for d, n in zip(all_ds, names):\n",
    "    dataset_names.extend([n]*len(d))"
   ]
  },
  {
   "cell_type": "code",
   "execution_count": 62,
   "metadata": {},
   "outputs": [
    {
     "data": {
      "text/plain": [
       "Counter({'sqac': 15036,\n",
       "         'exist2023': 8872,\n",
       "         'dipromats': 6726,\n",
       "         'exist2022': 4560,\n",
       "         'diann': 400})"
      ]
     },
     "execution_count": 62,
     "metadata": {},
     "output_type": "execute_result"
    }
   ],
   "source": [
    "from collections import Counter\n",
    "\n",
    "Counter(dataset_names)"
   ]
  },
  {
   "cell_type": "code",
   "execution_count": 17,
   "metadata": {},
   "outputs": [],
   "source": [
    "temp_ds = temp_ds.add_column(\"dataset_name\", dataset_names)"
   ]
  },
  {
   "cell_type": "code",
   "execution_count": 18,
   "metadata": {},
   "outputs": [
    {
     "data": {
      "application/vnd.jupyter.widget-view+json": {
       "model_id": "2d43dc3f78634b81b60f952ccd60af60",
       "version_major": 2,
       "version_minor": 0
      },
      "text/plain": [
       "Filter (num_proc=10):   0%|          | 0/35594 [00:00<?, ? examples/s]"
      ]
     },
     "metadata": {},
     "output_type": "display_data"
    },
    {
     "name": "stdout",
     "output_type": "stream",
     "text": [
      "diann [ 462.5  541.   622.8  678.  1028. ]\n"
     ]
    },
    {
     "data": {
      "application/vnd.jupyter.widget-view+json": {
       "model_id": "92012e82a81a46dca616235c97756e3c",
       "version_major": 2,
       "version_minor": 0
      },
      "text/plain": [
       "Filter (num_proc=10):   0%|          | 0/35594 [00:00<?, ? examples/s]"
      ]
     },
     "metadata": {},
     "output_type": "display_data"
    },
    {
     "name": "stdout",
     "output_type": "stream",
     "text": [
      "dipromats [1416. 1430. 1442. 1450. 1520.]\n"
     ]
    },
    {
     "data": {
      "application/vnd.jupyter.widget-view+json": {
       "model_id": "c4c8fa1ab42e4ec187f214a48cdb2478",
       "version_major": 2,
       "version_minor": 0
      },
      "text/plain": [
       "Filter (num_proc=10):   0%|          | 0/35594 [00:00<?, ? examples/s]"
      ]
     },
     "metadata": {},
     "output_type": "display_data"
    },
    {
     "name": "stdout",
     "output_type": "stream",
     "text": [
      "exist2022 [561. 582. 594. 602. 857.]\n"
     ]
    },
    {
     "data": {
      "application/vnd.jupyter.widget-view+json": {
       "model_id": "f3bad038ef524201959a96634277752a",
       "version_major": 2,
       "version_minor": 0
      },
      "text/plain": [
       "Filter (num_proc=10):   0%|          | 0/35594 [00:00<?, ? examples/s]"
      ]
     },
     "metadata": {},
     "output_type": "display_data"
    },
    {
     "name": "stdout",
     "output_type": "stream",
     "text": [
      "exist2023 [345. 552. 583. 595. 904.]\n",
      "exist2023 [345. 552. 583. 595. 904.]\n",
      "exist2023 [345. 552. 583. 595. 904.]\n"
     ]
    },
    {
     "data": {
      "application/vnd.jupyter.widget-view+json": {
       "model_id": "7f436cdb67f6418f8e44ac072c046e5d",
       "version_major": 2,
       "version_minor": 0
      },
      "text/plain": [
       "Filter (num_proc=10):   0%|          | 0/35594 [00:00<?, ? examples/s]"
      ]
     },
     "metadata": {},
     "output_type": "display_data"
    },
    {
     "name": "stdout",
     "output_type": "stream",
     "text": [
      "sqac [ 373.    503.    650.    762.25 5701.  ]\n"
     ]
    }
   ],
   "source": [
    "import numpy as np\n",
    "\n",
    "for n in names:\n",
    "    temp = temp_ds.filter(lambda x: x[\"dataset_name\"] == n, num_proc=10)\n",
    "    q = np.quantile(temp[\"length\"], [0.5, 0.75, 0.9, 0.95, 1.])\n",
    "    print(n, q)"
   ]
  },
  {
   "cell_type": "code",
   "execution_count": 37,
   "metadata": {},
   "outputs": [
    {
     "data": {
      "application/vnd.jupyter.widget-view+json": {
       "model_id": "e07eb5ccf8974043996d2c1dc15d5ac1",
       "version_major": 2,
       "version_minor": 0
      },
      "text/plain": [
       "Creating parquet from Arrow format:   0%|          | 0/70 [00:00<?, ?ba/s]"
      ]
     },
     "metadata": {},
     "output_type": "display_data"
    },
    {
     "data": {
      "text/plain": [
       "187247806"
      ]
     },
     "execution_count": 37,
     "metadata": {},
     "output_type": "execute_result"
    }
   ],
   "source": [
    "output_dir = data_dir / \"v3\"\n",
    "\n",
    "ds.to_parquet(output_dir / f\"{SPLIT}_both.parquet\")"
   ]
  },
  {
   "cell_type": "code",
   "execution_count": 14,
   "metadata": {},
   "outputs": [],
   "source": [
    "with open(output_dir / \"README.md\", \"w\") as f:\n",
    "    f.write(\"\"\"---\n",
    "language:\n",
    "  - en\n",
    "configs:\n",
    "  - config_name: default\n",
    "    data_files:\n",
    "      - split: train\n",
    "        path: train_both.parquet\n",
    "      - split: val\n",
    "        path: val_both.parquet\n",
    "---\n",
    "combined, prompts v2\n",
    "            \"\"\")"
   ]
  },
  {
   "cell_type": "code",
   "execution_count": 19,
   "metadata": {},
   "outputs": [
    {
     "name": "stderr",
     "output_type": "stream",
     "text": [
      "huggingface/tokenizers: The current process just got forked, after parallelism has already been used. Disabling parallelism to avoid deadlocks...\n",
      "To disable this warning, you can either:\n",
      "\t- Avoid using `tokenizers` before the fork if possible\n",
      "\t- Explicitly set the environment variable TOKENIZERS_PARALLELISM=(true | false)\n"
     ]
    },
    {
     "name": "stdout",
     "output_type": "stream",
     "text": [
      "Consider using `hf_transfer` for faster uploads. This solution comes with some limitations. See https://huggingface.co/docs/huggingface_hub/hf_transfer for more details.\n",
      "Start hashing 3 files.\n",
      "Finished hashing 3 files.\n",
      "val_both.parquet: 100%|████████████████████| 7.41M/7.41M [00:01<00:00, 7.06MB/s]\n",
      "Removing 2 file(s) from commit that have not changed.\n",
      "https://huggingface.co/datasets/nbroad/odesia-combined-v2/tree/main/.\n"
     ]
    }
   ],
   "source": [
    "token = os.environ[\"HF_WRITE_PERSONAL\"]\n",
    "\n",
    "folder = str(output_dir)\n",
    "\n",
    "!huggingface-cli upload nbroad/odesia-combined-v2 $folder --private --token $token --repo-type dataset"
   ]
  },
  {
   "cell_type": "code",
   "execution_count": null,
   "metadata": {},
   "outputs": [],
   "source": []
  }
 ],
 "metadata": {
  "kernelspec": {
   "display_name": "Python 3",
   "language": "python",
   "name": "python3"
  },
  "language_info": {
   "codemirror_mode": {
    "name": "ipython",
    "version": 3
   },
   "file_extension": ".py",
   "mimetype": "text/x-python",
   "name": "python",
   "nbconvert_exporter": "python",
   "pygments_lexer": "ipython3",
   "version": "3.10.13"
  }
 },
 "nbformat": 4,
 "nbformat_minor": 2
}
