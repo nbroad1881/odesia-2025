{
 "cells": [
  {
   "cell_type": "markdown",
   "metadata": {},
   "source": [
    "[Task 1 - Propaganda Identification](#task-1---propaganda-identification)  \n",
    "(6726, 4896) en, es  \n",
    "\n",
    "[Task 2 - Coarse propaganda characterisation](#task-2---coarse-propaganda-characterisation)  \n",
    "(6726, 4896) en, es  \n",
    "\n",
    "[Task 3 - Fine-grained propaganda characterisation](#task-3---fine-grained-propaganda-characterisation)  \n",
    "(6726, 4896) en, es  "
   ]
  },
  {
   "cell_type": "code",
   "execution_count": 1,
   "metadata": {},
   "outputs": [
    {
     "name": "stdout",
     "output_type": "stream",
     "text": [
      "Loaded .env: True\n"
     ]
    }
   ],
   "source": [
    "import os\n",
    "from pathlib import Path\n",
    "\n",
    "from dotenv import load_dotenv\n",
    "import pandas as pd\n",
    "\n",
    "print(\"Loaded .env:\", load_dotenv(\"../../.env\", override=True))\n",
    "data_dir = Path(os.environ[\"PROJECT_DIR\"]) / \"data\" / \"host\" / \"dipromats_2023\""
   ]
  },
  {
   "cell_type": "markdown",
   "metadata": {},
   "source": [
    "# Task 1 - Propaganda Identification"
   ]
  },
  {
   "cell_type": "code",
   "execution_count": 29,
   "metadata": {},
   "outputs": [
    {
     "data": {
      "text/plain": [
       "Counter({'false': 5147, 'true': 1579})"
      ]
     },
     "execution_count": 29,
     "metadata": {},
     "output_type": "execute_result"
    }
   ],
   "source": [
    "import json\n",
    "from collections import Counter\n",
    "\n",
    "t1_en = json.load(open(data_dir / \"train_t1_en.json\"))\n",
    "t1_es = json.load(open(data_dir / \"train_t1_es.json\"))\n",
    "\n",
    "Counter([x[\"value\"] for x in t1_en])"
   ]
  },
  {
   "cell_type": "code",
   "execution_count": 30,
   "metadata": {},
   "outputs": [
    {
     "data": {
      "text/plain": [
       "(6726, 4896)"
      ]
     },
     "execution_count": 30,
     "metadata": {},
     "output_type": "execute_result"
    }
   ],
   "source": [
    "len(t1_en), len(t1_es)"
   ]
  },
  {
   "cell_type": "markdown",
   "metadata": {
    "vscode": {
     "languageId": "plaintext"
    }
   },
   "source": [
    "# Task 2 - Coarse propaganda characterisation\n",
    "\n",
    "1 label rarely mentioned"
   ]
  },
  {
   "cell_type": "code",
   "execution_count": 31,
   "metadata": {},
   "outputs": [
    {
     "name": "stdout",
     "output_type": "stream",
     "text": [
      "Counter({'false': 5147, '2 discrediting the opponent': 733, '3 loaded language': 731, '1 appeal to commonality': 491, '4 appeal to authority': 2})\n"
     ]
    },
    {
     "data": {
      "text/plain": [
       "Counter({1: 6379, 2: 316, 3: 31})"
      ]
     },
     "execution_count": 31,
     "metadata": {},
     "output_type": "execute_result"
    }
   ],
   "source": [
    "import json\n",
    "from collections import Counter\n",
    "from itertools import chain\n",
    "\n",
    "t2_en = json.load(open(data_dir / \"train_t2_en.json\"))\n",
    "t2_es = json.load(open(data_dir / \"train_t2_es.json\"))\n",
    "\n",
    "label_count = list(chain(*[x[\"value\"] for x in t2_en]))\n",
    "\n",
    "print(Counter(label_count))\n",
    "\n",
    "Counter([len(x[\"value\"]) for x in t2_en])"
   ]
  },
  {
   "cell_type": "code",
   "execution_count": 32,
   "metadata": {},
   "outputs": [
    {
     "data": {
      "text/plain": [
       "(6726, 4896)"
      ]
     },
     "execution_count": 32,
     "metadata": {},
     "output_type": "execute_result"
    }
   ],
   "source": [
    "len(t2_en), len(t2_es)"
   ]
  },
  {
   "cell_type": "code",
   "execution_count": 21,
   "metadata": {},
   "outputs": [
    {
     "data": {
      "text/plain": [
       "{'test_case': 'DIPROMATS2023',\n",
       " 'id': '3082',\n",
       " 'country': 'USA',\n",
       " 'user_name': 'realdonaldtrump',\n",
       " 'tweet_type': 'Tweet',\n",
       " 'tweet_id': 1308576926458544129,\n",
       " 'UTC': '2020-09-23 01:20:26+00:00',\n",
       " 'rts&fav': 74308,\n",
       " 'language': 'en',\n",
       " 'text': 'I was honored to be back in the Commonwealth of Pennsylvania with thousands of loyal, hardworking American Patriots. This election is a choice between Pennsylvania &amp; China. If Biden wins, China wins. When we win, Pennsylvania Wins, and AMERICA WINS! #MAGA https://t.co/GTSNoUDpHf',\n",
       " 'value': ['1 appeal to commonality',\n",
       "  '2 discrediting the opponent',\n",
       "  '3 loaded language']}"
      ]
     },
     "execution_count": 21,
     "metadata": {},
     "output_type": "execute_result"
    }
   ],
   "source": [
    "import random\n",
    "\n",
    "random.choice(t2_en)"
   ]
  },
  {
   "cell_type": "markdown",
   "metadata": {},
   "source": [
    "# Task 3 - Fine-grained propaganda characterisation\n",
    "\n",
    "Some labels are rarely mentioned. Some are not present at all\n",
    "\n",
    "## train_t3_en\n",
    "\n",
    "`discrediting the opponent - personal attacks`, `discrediting the opponent - reductio ad hitlerum` are not in train set\n",
    "\n",
    "## train_t3_es\n",
    "\n",
    "`appeal to authority - appeal to false authority`, `discrediting the opponent - personal attacks`, `discrediting the opponent - reductio ad hitlerum` not in training set."
   ]
  },
  {
   "cell_type": "code",
   "execution_count": 28,
   "metadata": {},
   "outputs": [
    {
     "name": "stdout",
     "output_type": "stream",
     "text": [
      "Counter({'false': 5147, '3 loaded language': 731, '2 discrediting the opponent - undiplomatic assertiveness/whataboutism': 452, '1 appeal to commonality - flag waving': 445, '2 discrediting the opponent - name calling': 175, '2 discrediting the opponent - propaganda slinging': 86, '2 discrediting the opponent - doubt': 59, '1 appeal to commonality - ad populum': 54, '2 discrediting the opponent - fear appeals (destructive)': 52, '2 discrediting the opponent - demonization': 35, '2 discrediting the opponent - absurdity appeal': 27, '2 discrediting the opponent - scapegoating': 9, '4 appeal to authority - appeal to false authority': 1, '4 appeal to authority - bandwagoning': 1})\n",
      "14\n",
      "['1 appeal to commonality - ad populum', '1 appeal to commonality - flag waving', '2 discrediting the opponent - absurdity appeal', '2 discrediting the opponent - demonization', '2 discrediting the opponent - doubt', '2 discrediting the opponent - fear appeals (destructive)', '2 discrediting the opponent - name calling', '2 discrediting the opponent - propaganda slinging', '2 discrediting the opponent - scapegoating', '2 discrediting the opponent - undiplomatic assertiveness/whataboutism', '3 loaded language', '4 appeal to authority - appeal to false authority', '4 appeal to authority - bandwagoning', 'false']\n"
     ]
    },
    {
     "data": {
      "text/plain": [
       "Counter({1: 6281, 2: 358, 3: 72, 4: 10, 5: 3, 6: 1, 0: 1})"
      ]
     },
     "execution_count": 28,
     "metadata": {},
     "output_type": "execute_result"
    }
   ],
   "source": [
    "import json\n",
    "from collections import Counter\n",
    "from itertools import chain\n",
    "\n",
    "t3_en = json.load(open(data_dir / \"train_t3_en.json\"))\n",
    "\n",
    "label_count = list(chain(*[x[\"value\"] for x in t3_en]))\n",
    "\n",
    "\n",
    "print(Counter(label_count))\n",
    "print(len(Counter(label_count)))\n",
    "print(sorted(set(label_count)))\n",
    "\n",
    "Counter([len(x[\"value\"]) for x in t3_en])"
   ]
  },
  {
   "cell_type": "markdown",
   "metadata": {},
   "source": []
  }
 ],
 "metadata": {
  "kernelspec": {
   "display_name": "Python 3",
   "language": "python",
   "name": "python3"
  },
  "language_info": {
   "codemirror_mode": {
    "name": "ipython",
    "version": 3
   },
   "file_extension": ".py",
   "mimetype": "text/x-python",
   "name": "python",
   "nbconvert_exporter": "python",
   "pygments_lexer": "ipython3",
   "version": "3.10.13"
  }
 },
 "nbformat": 4,
 "nbformat_minor": 2
}
