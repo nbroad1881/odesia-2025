{
 "cells": [
  {
   "cell_type": "markdown",
   "metadata": {},
   "source": [
    "[Exist 2022 - Task 1](#exist-2022---task-1)  \n",
    "(4515, 4560) en, es\n",
    "\n",
    "[Exist 2022 - Task 2](#exist-2022---task-2)  \n",
    "(4515, 4560) en, es\n",
    "\n",
    "[Exist 2023 - Task 1](#exist-2023---task-1)  \n",
    "(3260, 3660) en, es\n",
    "[Exist 2023 - Task 2](#exist-2023---task-2)  \n",
    "(3260, 3660) en, es\n",
    "[Exist 2023 - Task 3](#exist-2023---task-3)  \n",
    "(3260, 3660) en, es"
   ]
  },
  {
   "cell_type": "code",
   "execution_count": 80,
   "metadata": {},
   "outputs": [
    {
     "name": "stdout",
     "output_type": "stream",
     "text": [
      "Loaded .env: True\n"
     ]
    }
   ],
   "source": [
    "import os\n",
    "from pathlib import Path\n",
    "\n",
    "from dotenv import load_dotenv\n",
    "import pandas as pd\n",
    "\n",
    "print(\"Loaded .env:\", load_dotenv(\"../../.env\", override=True))\n",
    "data_dir = Path(os.environ[\"PROJECT_DIR\"]) / \"data\" / \"host\"\n",
    "\n",
    "LANG = \"es\""
   ]
  },
  {
   "cell_type": "markdown",
   "metadata": {},
   "source": [
    "# Exist 2022 - Task 1\n",
    "\n",
    "Single label classification"
   ]
  },
  {
   "cell_type": "code",
   "execution_count": 76,
   "metadata": {},
   "outputs": [
    {
     "name": "stdout",
     "output_type": "stream",
     "text": [
      "4560\n"
     ]
    },
    {
     "data": {
      "text/plain": [
       "Counter({'non-sexist': 2303, 'sexist': 2257})"
      ]
     },
     "execution_count": 76,
     "metadata": {},
     "output_type": "execute_result"
    }
   ],
   "source": [
    "import json\n",
    "from collections import Counter\n",
    "\n",
    "t1_2022 = json.load(open(data_dir / \"exist_2022\" / f\"train_t1_{LANG}.json\"))\n",
    "\n",
    "print(len(t1_2022))\n",
    "\n",
    "Counter([x[\"value\"] for x in t1_2022])"
   ]
  },
  {
   "cell_type": "markdown",
   "metadata": {},
   "source": [
    "# Exist 2022 - Task 2\n",
    "\n",
    "Single label classification"
   ]
  },
  {
   "cell_type": "code",
   "execution_count": 77,
   "metadata": {},
   "outputs": [
    {
     "name": "stdout",
     "output_type": "stream",
     "text": [
      "4560\n"
     ]
    },
    {
     "data": {
      "text/plain": [
       "Counter({'non-sexist': 2303,\n",
       "         'ideological-inequality': 620,\n",
       "         'stereotyping-dominance': 530,\n",
       "         'misogyny-non-sexual-violence': 520,\n",
       "         'objectification': 321,\n",
       "         'sexual-violence': 266})"
      ]
     },
     "execution_count": 77,
     "metadata": {},
     "output_type": "execute_result"
    }
   ],
   "source": [
    "t2_2022 = json.load(open(data_dir / \"exist_2022\" / f\"train_t2_{LANG}.json\"))\n",
    "\n",
    "print(len(t2_2022))\n",
    "\n",
    "Counter([x[\"value\"] for x in t2_2022])"
   ]
  },
  {
   "cell_type": "code",
   "execution_count": 78,
   "metadata": {},
   "outputs": [
    {
     "data": {
      "text/plain": [
       "{'test_case': 'EXIST2021',\n",
       " 'id': '3437',\n",
       " 'source': 'twitter',\n",
       " 'language': 'es',\n",
       " 'text': 'Nadie te va a tratar tan bien como un hombre que te lo quiere meter por primera vez.',\n",
       " 'value': 'sexual-violence'}"
      ]
     },
     "execution_count": 78,
     "metadata": {},
     "output_type": "execute_result"
    }
   ],
   "source": [
    "t2_2022[0]"
   ]
  },
  {
   "cell_type": "markdown",
   "metadata": {},
   "source": [
    "# Exist 2023 - Task 1\n",
    "\n",
    "6 annotators, labeling YES/NO"
   ]
  },
  {
   "cell_type": "code",
   "execution_count": 81,
   "metadata": {},
   "outputs": [
    {
     "name": "stdout",
     "output_type": "stream",
     "text": [
      "3660\n",
      "Counter({'NO': 2100, 'YES': 1560})\n",
      "Counter({0: 666, 5: 580, 1: 526, 6: 493, 4: 487, 3: 466, 2: 442})\n"
     ]
    }
   ],
   "source": [
    "from itertools import chain\n",
    "\n",
    "t1_2023 = json.load(open(data_dir / \"exist_2023\" / f\"train_t1_{LANG}.json\"))\n",
    "\n",
    "print(len(t1_2023))\n",
    "\n",
    "labels = [\"YES\" if x[\"value\"].count(\"YES\") > 3 else \"NO\" for x in t1_2023]\n",
    "yes_counts = [x[\"value\"].count(\"YES\") for x in t1_2023]\n",
    "\n",
    "print(Counter(labels))\n",
    "print(Counter(yes_counts))"
   ]
  },
  {
   "cell_type": "code",
   "execution_count": 25,
   "metadata": {},
   "outputs": [
    {
     "data": {
      "text/plain": [
       "{'id': '200001',\n",
       " 'lang': 'en',\n",
       " 'tweet': 'FFS! How about laying the blame on the bastard who murdered her? Novel idea, I know. https://t.co/GI5B45THvJ',\n",
       " 'number_annotators': 6,\n",
       " 'annotators': ['Annotator_391',\n",
       "  'Annotator_392',\n",
       "  'Annotator_393',\n",
       "  'Annotator_394',\n",
       "  'Annotator_395',\n",
       "  'Annotator_396'],\n",
       " 'gender_annotators': ['F', 'F', 'M', 'M', 'M', 'F'],\n",
       " 'age_annotators': ['18-22', '23-45', '18-22', '23-45', '46+', '46+'],\n",
       " 'value': ['YES', 'YES', 'NO', 'NO', 'YES', 'NO'],\n",
       " 'test_case': 'EXIST2023'}"
      ]
     },
     "execution_count": 25,
     "metadata": {},
     "output_type": "execute_result"
    }
   ],
   "source": [
    "t1_2023[0]"
   ]
  },
  {
   "cell_type": "markdown",
   "metadata": {},
   "source": [
    "# Exist 2023 - Task 2\n",
    "\n",
    "6 annotators, single label classification"
   ]
  },
  {
   "cell_type": "code",
   "execution_count": 82,
   "metadata": {},
   "outputs": [
    {
     "name": "stdout",
     "output_type": "stream",
     "text": [
      "3660\n",
      "Counter({'-': 2041, 'DIRECT': 789, 'REPORTED': 273, 'JUDGEMENTAL': 239})\n"
     ]
    }
   ],
   "source": [
    "t2_2023 = json.load(open(data_dir / \"exist_2023\" / f\"train_t2_{LANG}.json\"))\n",
    "\n",
    "print(len(t2_2023))\n",
    "\n",
    "three_or_more = []\n",
    "\n",
    "for x in t2_2023:\n",
    "    cntr = Counter(x[\"value\"])\n",
    "    if cntr.most_common(1)[0][1] >= 3:\n",
    "        three_or_more.append(cntr.most_common(1)[0][0])\n",
    "\n",
    "print(Counter(three_or_more))"
   ]
  },
  {
   "cell_type": "code",
   "execution_count": 71,
   "metadata": {},
   "outputs": [
    {
     "data": {
      "text/plain": [
       "{'id': '202998',\n",
       " 'lang': 'en',\n",
       " 'tweet': \"@afraidleftist @KatyMontgomerie @RichardDawkins I'm not saying trans women are predators. I'm saying that some men are predators and use the system to gain access to women and it's not possible to tell the difference. Female only spaces were created to protect women &amp; girls from men for a reason.\",\n",
       " 'number_annotators': 6,\n",
       " 'annotators': ['Annotator_265',\n",
       "  'Annotator_709',\n",
       "  'Annotator_710',\n",
       "  'Annotator_711',\n",
       "  'Annotator_712',\n",
       "  'Annotator_713'],\n",
       " 'gender_annotators': ['F', 'F', 'M', 'M', 'M', 'F'],\n",
       " 'age_annotators': ['18-22', '23-45', '18-22', '23-45', '46+', '46+'],\n",
       " 'value': ['DIRECT', '-', 'JUDGEMENTAL', 'JUDGEMENTAL', 'JUDGEMENTAL', '-'],\n",
       " 'test_case': 'EXIST2023'}"
      ]
     },
     "execution_count": 71,
     "metadata": {},
     "output_type": "execute_result"
    }
   ],
   "source": [
    "import random\n",
    "\n",
    "while True:\n",
    "    x = random.choice(t2_2023)\n",
    "    if x[\"value\"].count(\"JUDGEMENTAL\") >= 3:\n",
    "        break\n",
    "\n",
    "x"
   ]
  },
  {
   "cell_type": "markdown",
   "metadata": {},
   "source": [
    "# Exist 2023 - Task 3\n",
    "\n",
    "6 annotators, each do multilabel classification"
   ]
  },
  {
   "cell_type": "code",
   "execution_count": 83,
   "metadata": {},
   "outputs": [
    {
     "name": "stdout",
     "output_type": "stream",
     "text": [
      "3660\n",
      "Counter({'-': 2100, 'STEREOTYPING-DOMINANCE': 493, 'IDEOLOGICAL-INEQUALITY': 428, 'OBJECTIFICATION': 322, 'MISOGYNY-NON-SEXUAL-VIOLENCE': 270, 'SEXUAL-VIOLENCE': 223})\n"
     ]
    }
   ],
   "source": [
    "t3_2023 = json.load(open(data_dir / \"exist_2023\" / f\"train_t3_{LANG}.json\"))\n",
    "\n",
    "print(len(t3_2023))\n",
    "\n",
    "three_or_more = []\n",
    "\n",
    "for x in t3_2023:\n",
    "    all_values = sum(x[\"value\"], [])\n",
    "    cntr = Counter(all_values)\n",
    "    for k, v in cntr.items():\n",
    "        if v >= 3:\n",
    "            three_or_more.append(k)\n",
    "\n",
    "print(Counter(three_or_more))"
   ]
  },
  {
   "cell_type": "code",
   "execution_count": 24,
   "metadata": {},
   "outputs": [
    {
     "data": {
      "text/plain": [
       "{'id': '200001',\n",
       " 'lang': 'en',\n",
       " 'tweet': 'FFS! How about laying the blame on the bastard who murdered her? Novel idea, I know. https://t.co/GI5B45THvJ',\n",
       " 'number_annotators': 6,\n",
       " 'annotators': ['Annotator_391',\n",
       "  'Annotator_392',\n",
       "  'Annotator_393',\n",
       "  'Annotator_394',\n",
       "  'Annotator_395',\n",
       "  'Annotator_396'],\n",
       " 'gender_annotators': ['F', 'F', 'M', 'M', 'M', 'F'],\n",
       " 'age_annotators': ['18-22', '23-45', '18-22', '23-45', '46+', '46+'],\n",
       " 'value': [['MISOGYNY-NON-SEXUAL-VIOLENCE'],\n",
       "  ['SEXUAL-VIOLENCE'],\n",
       "  ['-'],\n",
       "  ['-'],\n",
       "  ['MISOGYNY-NON-SEXUAL-VIOLENCE'],\n",
       "  ['-']],\n",
       " 'test_case': 'EXIST2023'}"
      ]
     },
     "execution_count": 24,
     "metadata": {},
     "output_type": "execute_result"
    }
   ],
   "source": [
    "t3_2023[0]"
   ]
  }
 ],
 "metadata": {
  "kernelspec": {
   "display_name": "Python 3",
   "language": "python",
   "name": "python3"
  },
  "language_info": {
   "codemirror_mode": {
    "name": "ipython",
    "version": 3
   },
   "file_extension": ".py",
   "mimetype": "text/x-python",
   "name": "python",
   "nbconvert_exporter": "python",
   "pygments_lexer": "ipython3",
   "version": "3.10.13"
  }
 },
 "nbformat": 4,
 "nbformat_minor": 2
}
