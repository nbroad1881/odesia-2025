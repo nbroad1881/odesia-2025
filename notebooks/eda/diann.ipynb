{
 "cells": [
  {
   "cell_type": "markdown",
   "metadata": {},
   "source": [
    "This notebook is getting a closer look at the data in the DIANN dataset and seeing how zero shot generative models do on it.\n",
    "\n",
    "400 samples in train_en, 400 in train_es\n"
   ]
  },
  {
   "cell_type": "code",
   "execution_count": 5,
   "metadata": {},
   "outputs": [
    {
     "name": "stdout",
     "output_type": "stream",
     "text": [
      "Loaded .env: True\n"
     ]
    }
   ],
   "source": [
    "import os\n",
    "from pathlib import Path\n",
    "\n",
    "from dotenv import load_dotenv\n",
    "import pandas as pd\n",
    "\n",
    "print(\"Loaded .env:\", load_dotenv(\"../../.env\", override=True))\n",
    "data_dir = Path(os.environ[\"PROJECT_DIR\"]) / \"data\" / \"host\" / \"diann_2023\""
   ]
  },
  {
   "cell_type": "code",
   "execution_count": 34,
   "metadata": {},
   "outputs": [
    {
     "data": {
      "text/plain": [
       "[('Objectives', 'O'),\n",
       " ('.', 'O'),\n",
       " ('The', 'O'),\n",
       " ('present', 'O'),\n",
       " ('research', 'O'),\n",
       " ('aims', 'O'),\n",
       " ('to', 'O'),\n",
       " ('describe', 'O'),\n",
       " ('the', 'O'),\n",
       " ('knowledge', 'O'),\n",
       " ('of', 'O'),\n",
       " ('elementary', 'O'),\n",
       " ('school', 'O'),\n",
       " ('teachers', 'O'),\n",
       " ('about', 'O'),\n",
       " ('attention', 'B-DIS'),\n",
       " ('deficit', 'I-DIS'),\n",
       " ('hyperactivity', 'I-DIS'),\n",
       " ('disorder', 'I-DIS'),\n",
       " ('(', 'O'),\n",
       " ('ADHD', 'B-DIS'),\n",
       " (')', 'O'),\n",
       " ('through', 'O'),\n",
       " ('interviews', 'O'),\n",
       " ('about', 'O'),\n",
       " ('general', 'O'),\n",
       " ('information', 'O'),\n",
       " (',', 'O'),\n",
       " ('symptoms/diagnosis', 'O'),\n",
       " ('and', 'O'),\n",
       " ('treatment', 'O'),\n",
       " (',', 'O'),\n",
       " ('in', 'O'),\n",
       " ('addition', 'O'),\n",
       " ('to', 'O'),\n",
       " ('perceived', 'O'),\n",
       " ('self', 'O'),\n",
       " ('-', 'O'),\n",
       " ('efficacy', 'O'),\n",
       " ('.', 'O'),\n",
       " ('Methods', 'O'),\n",
       " ('.', 'O'),\n",
       " ('A', 'O'),\n",
       " ('descriptive', 'O'),\n",
       " ('cross', 'O'),\n",
       " ('-', 'O'),\n",
       " ('sectional', 'O'),\n",
       " ('population', 'O'),\n",
       " ('study', 'O'),\n",
       " ('was', 'O'),\n",
       " ('carried', 'O'),\n",
       " ('out', 'O'),\n",
       " (',', 'O'),\n",
       " ('involving', 'O'),\n",
       " ('62', 'O'),\n",
       " ('teachers', 'O'),\n",
       " ('from', 'O'),\n",
       " ('public', 'O'),\n",
       " ('schools', 'O'),\n",
       " ('in', 'O'),\n",
       " ('the', 'O'),\n",
       " ('municipality', 'O'),\n",
       " ('of', 'O'),\n",
       " ('Sabaneta', 'O'),\n",
       " ('.', 'O'),\n",
       " ('The', 'O'),\n",
       " ('teachers', 'O'),\n",
       " ('were', 'O'),\n",
       " ('evaluated', 'O'),\n",
       " ('by', 'O'),\n",
       " ('the', 'O'),\n",
       " ('Spanish', 'O'),\n",
       " ('adaptation', 'O'),\n",
       " ('of', 'O'),\n",
       " ('the', 'O'),\n",
       " ('Knowledge', 'O'),\n",
       " ('of', 'O'),\n",
       " ('Attention', 'O'),\n",
       " ('Deficit', 'O'),\n",
       " ('Hyperactivity', 'O'),\n",
       " ('Disorder', 'O'),\n",
       " ('(', 'O'),\n",
       " ('KADDS', 'O'),\n",
       " (')', 'O'),\n",
       " (',', 'O'),\n",
       " ('an', 'O'),\n",
       " ('estimation', 'O'),\n",
       " ('scale', 'O'),\n",
       " ('composed', 'O'),\n",
       " ('of', 'O'),\n",
       " ('36', 'O'),\n",
       " ('items', 'O'),\n",
       " ('of', 'O'),\n",
       " ('three', 'O'),\n",
       " ('alternative', 'O'),\n",
       " ('answers', 'O'),\n",
       " ('(', 'O'),\n",
       " ('true', 'O'),\n",
       " (',', 'O'),\n",
       " ('false', 'O'),\n",
       " ('and', 'O'),\n",
       " ('I', 'O'),\n",
       " ('do', 'O'),\n",
       " ('not', 'O'),\n",
       " ('know', 'O'),\n",
       " (')', 'O'),\n",
       " ('.', 'O'),\n",
       " ('Results', 'O'),\n",
       " ('.', 'O'),\n",
       " ('Teachers', 'O'),\n",
       " ('correctly', 'O'),\n",
       " ('answered', 'O'),\n",
       " ('a', 'O'),\n",
       " ('little', 'O'),\n",
       " ('less', 'O'),\n",
       " ('than', 'O'),\n",
       " ('half', 'O'),\n",
       " ('of', 'O'),\n",
       " ('the', 'O'),\n",
       " ('items', 'O'),\n",
       " ('in', 'O'),\n",
       " ('the', 'O'),\n",
       " ('total', 'O'),\n",
       " ('questionnaire', 'O'),\n",
       " ('(', 'O'),\n",
       " ('48', 'O'),\n",
       " ('.52%', 'O'),\n",
       " (')', 'O'),\n",
       " ('.', 'O'),\n",
       " ('Specifically', 'O'),\n",
       " (',', 'O'),\n",
       " ('it', 'O'),\n",
       " ('was', 'O'),\n",
       " ('in', 'O'),\n",
       " ('the', 'O'),\n",
       " ('subscale', 'O'),\n",
       " ('of', 'O'),\n",
       " ('dymptoms/diagnosis', 'O'),\n",
       " ('in', 'O'),\n",
       " ('which', 'O'),\n",
       " ('they', 'O'),\n",
       " ('presented', 'O'),\n",
       " ('more', 'O'),\n",
       " ('hits', 'O'),\n",
       " ('with', 'O'),\n",
       " ('69', 'O'),\n",
       " ('.35%', 'O'),\n",
       " (',', 'O'),\n",
       " ('followed', 'O'),\n",
       " ('by', 'O'),\n",
       " ('the', 'O'),\n",
       " ('treatment', 'O'),\n",
       " ('subscale', 'O'),\n",
       " ('(', 'O'),\n",
       " ('45', 'O'),\n",
       " ('.30%', 'O'),\n",
       " (')', 'O'),\n",
       " (',', 'O'),\n",
       " ('and', 'O'),\n",
       " ('finally', 'O'),\n",
       " ('the', 'O'),\n",
       " ('general', 'O'),\n",
       " ('information', 'O'),\n",
       " ('(', 'O'),\n",
       " ('38', 'O'),\n",
       " ('.60%', 'O'),\n",
       " (')', 'O'),\n",
       " ('.', 'O'),\n",
       " ('Conclusions', 'O'),\n",
       " ('.', 'O'),\n",
       " ('According', 'O'),\n",
       " ('to', 'O'),\n",
       " ('the', 'O'),\n",
       " ('data', 'O'),\n",
       " ('obtained', 'O'),\n",
       " (',', 'O'),\n",
       " ('the', 'O'),\n",
       " ('need', 'O'),\n",
       " ('for', 'O'),\n",
       " ('interventions', 'O'),\n",
       " ('on', 'O'),\n",
       " ('the', 'O'),\n",
       " ('subject', 'O'),\n",
       " ('is', 'O'),\n",
       " ('confirmed', 'O'),\n",
       " (',', 'O'),\n",
       " ('so', 'O'),\n",
       " ('that', 'O'),\n",
       " ('this', 'O'),\n",
       " ('is', 'O'),\n",
       " ('reflected', 'O'),\n",
       " ('in', 'O'),\n",
       " ('new', 'O'),\n",
       " ('teaching', 'O'),\n",
       " ('techniques', 'O'),\n",
       " ('that', 'O'),\n",
       " ('facilitate', 'O'),\n",
       " ('the', 'O'),\n",
       " ('learning', 'O'),\n",
       " ('and', 'O'),\n",
       " ('development', 'O'),\n",
       " ('of', 'O'),\n",
       " ('children', 'O'),\n",
       " ('with', 'O'),\n",
       " ('the', 'O'),\n",
       " ('disorder', 'O'),\n",
       " ('.', 'O'),\n",
       " ('', 'O')]"
      ]
     },
     "execution_count": 34,
     "metadata": {},
     "output_type": "execute_result"
    }
   ],
   "source": [
    "import json\n",
    "\n",
    "train_en = json.load(open(data_dir / \"train_t1_en.json\"))\n",
    "train_es = json.load(open(data_dir / \"train_t1_es.json\"))\n",
    "\n",
    "tokens = train_en[0][\"tokens\"]\n",
    "labels = train_en[0][\"value\"]\n",
    "\n",
    "list(zip(tokens, labels))"
   ]
  },
  {
   "cell_type": "code",
   "execution_count": 62,
   "metadata": {},
   "outputs": [
    {
     "data": {
      "text/plain": [
       "(400, 400)"
      ]
     },
     "execution_count": 62,
     "metadata": {},
     "output_type": "execute_result"
    }
   ],
   "source": [
    "len(train_en), len(train_es)"
   ]
  },
  {
   "cell_type": "markdown",
   "metadata": {},
   "source": [
    "# Experimenting with r1"
   ]
  },
  {
   "cell_type": "code",
   "execution_count": 2,
   "metadata": {},
   "outputs": [
    {
     "data": {
      "application/vnd.jupyter.widget-view+json": {
       "model_id": "9d91928a0b6a435a87c5ebca264ec252",
       "version_major": 2,
       "version_minor": 0
      },
      "text/plain": [
       "config.json:   0%|          | 0.00/679 [00:00<?, ?B/s]"
      ]
     },
     "metadata": {},
     "output_type": "display_data"
    },
    {
     "data": {
      "application/vnd.jupyter.widget-view+json": {
       "model_id": "d4b0ad4f2dca49418eb7186c5b82302d",
       "version_major": 2,
       "version_minor": 0
      },
      "text/plain": [
       "model.safetensors:   0%|          | 0.00/3.55G [00:00<?, ?B/s]"
      ]
     },
     "metadata": {},
     "output_type": "display_data"
    },
    {
     "data": {
      "application/vnd.jupyter.widget-view+json": {
       "model_id": "766c9557a9c14ccf8d1f39dc4f576d38",
       "version_major": 2,
       "version_minor": 0
      },
      "text/plain": [
       "generation_config.json:   0%|          | 0.00/181 [00:00<?, ?B/s]"
      ]
     },
     "metadata": {},
     "output_type": "display_data"
    },
    {
     "data": {
      "application/vnd.jupyter.widget-view+json": {
       "model_id": "83549f3a541040cc98f12537a1175e93",
       "version_major": 2,
       "version_minor": 0
      },
      "text/plain": [
       "tokenizer_config.json:   0%|          | 0.00/3.06k [00:00<?, ?B/s]"
      ]
     },
     "metadata": {},
     "output_type": "display_data"
    },
    {
     "data": {
      "application/vnd.jupyter.widget-view+json": {
       "model_id": "63cde6d8bf8d4a4a93f8bcd0f7870439",
       "version_major": 2,
       "version_minor": 0
      },
      "text/plain": [
       "tokenizer.json:   0%|          | 0.00/7.03M [00:00<?, ?B/s]"
      ]
     },
     "metadata": {},
     "output_type": "display_data"
    },
    {
     "name": "stderr",
     "output_type": "stream",
     "text": [
      "Device set to use cuda:0\n"
     ]
    }
   ],
   "source": [
    "from transformers import pipeline\n",
    "\n",
    "\n",
    "model_name = \"deepseek-ai/DeepSeek-R1-Distill-Qwen-1.5B\"\n",
    "\n",
    "pl = pipeline(\"text-generation\", model=model_name, device=0)"
   ]
  },
  {
   "cell_type": "code",
   "execution_count": 15,
   "metadata": {},
   "outputs": [
    {
     "data": {
      "text/plain": [
       "'Objectives . The present research aims to describe the knowledge of elementary school teachers about attention deficit hyperactivity disorder ( ADHD ) through interviews about general information , symptoms/diagnosis and treatment , in addition to perceived self - efficacy . Methods . A descriptive cross - sectional population study was carried out , involving 62 teachers from public schools in the municipality of Sabaneta . The teachers were evaluated by the Spanish adaptation of the Knowledge of Attention Deficit Hyperactivity Disorder ( KADDS ) , an estimation scale composed of 36 items of three alternative answers ( true , false and I do not know ) . Results . Teachers correctly answered a little less than half of the items in the total questionnaire ( 48 .52% ) . Specifically , it was in the subscale of dymptoms/diagnosis in which they presented more hits with 69 .35% , followed by the treatment subscale ( 45 .30% ) , and finally the general information ( 38 .60% ) . Conclusions . According to the data obtained , the need for interventions on the subject is confirmed , so that this is reflected in new teaching techniques that facilitate the learning and development of children with the disorder . '"
      ]
     },
     "execution_count": 15,
     "metadata": {},
     "output_type": "execute_result"
    }
   ],
   "source": [
    "\" \".join(train_en[0][\"tokens\"])"
   ]
  },
  {
   "cell_type": "code",
   "execution_count": 28,
   "metadata": {},
   "outputs": [
    {
     "name": "stdout",
     "output_type": "stream",
     "text": [
      "You are a expert medical assistant that can identify disabilities from medical abstracts. You will be presented with abstracts of biomedical articles related to rare diseases. You will need to identify the disabilities present in the article. A disability is define as a physical or mental condition that limits a person's movements, senses, or activities. \n",
      "After carefully reading the article, list the disabilities present in the article. If there are multiple disabilities, list them all. If there are multiple instances of the same disability, list them as they appear in the article. If you cannot identify any disabilities, respond with 'No disabilities identified'.\n",
      "\n",
      "Example Abstract:\n",
      "\n",
      "Objectives . The present research aims to describe the knowledge of elementary school teachers about attention deficit hyperactivity disorder ( ADHD ) through interviews about general information , symptoms/diagnosis and treatment , in addition to perceived self - efficacy . Methods . A descriptive cross - sectional population study was carried out , involving 62 teachers from public schools in the municipality of Sabaneta . The teachers were evaluated by the Spanish adaptation of the Knowledge of Attention Deficit Hyperactivity Disorder ( KADDS ) , an estimation scale composed of 36 items of three alternative answers ( true , false and I do not know ) . Results . Teachers correctly answered a little less than half of the items in the total questionnaire ( 48 .52% ) . Specifically , it was in the subscale of dymptoms/diagnosis in which they presented more hits with 69 .35% , followed by the treatment subscale ( 45 .30% ) , and finally the general information ( 38 .60% ) . Conclusions . According to the data obtained , the need for interventions on the subject is confirmed , so that this is reflected in new teaching techniques that facilitate the learning and development of children with the disorder .\n",
      "\n",
      "Example Response:\n",
      "\n",
      "attention deficit hyperactivity disorder\n",
      "ADHD\n",
      "\n"
     ]
    }
   ],
   "source": [
    "p1 = \"You are a expert medical assistant that can identify disabilities from medical abstracts. You will be presented with abstracts of \"\n",
    "p1 += \"biomedical articles related to rare diseases. You will need to identify the disabilities present in the article. A disability is define as \"\n",
    "p1 += \"a physical or mental condition that limits a person's movements, senses, or activities. \\n\"\n",
    "p1 += \"After carefully reading the article, \"\n",
    "p1 += \"list the disabilities present in the article. If there are multiple disabilities, list them all. If there are multiple instances of the same disability, list them as they appear in the article. If you cannot identify any disabilities, respond with 'No disabilities identified'.\"\n",
    "p1 += \"\\n\\nExample Abstract:\\n\\n\"\n",
    "p1 += \"Objectives . The present research aims to describe the knowledge of elementary school teachers about attention deficit hyperactivity disorder ( ADHD ) through interviews about general information , symptoms/diagnosis and treatment , in addition to perceived self - efficacy . Methods . A descriptive cross - sectional population study was carried out , involving 62 teachers from public schools in the municipality of Sabaneta . The teachers were evaluated by the Spanish adaptation of the Knowledge of Attention Deficit Hyperactivity Disorder ( KADDS ) , an estimation scale composed of 36 items of three alternative answers ( true , false and I do not know ) . Results . Teachers correctly answered a little less than half of the items in the total questionnaire ( 48 .52% ) . Specifically , it was in the subscale of dymptoms/diagnosis in which they presented more hits with 69 .35% , followed by the treatment subscale ( 45 .30% ) , and finally the general information ( 38 .60% ) . Conclusions . According to the data obtained , the need for interventions on the subject is confirmed , so that this is reflected in new teaching techniques that facilitate the learning and development of children with the disorder .\"\n",
    "p1 += \"\\n\\nExample Response:\\n\\n\"\n",
    "p1 += \"attention deficit hyperactivity disorder\\n\"\n",
    "p1 += \"ADHD\\n\"\n",
    "\n",
    "print(p1)\n",
    "\n",
    "def generate_response(abstract):\n",
    "    messages = [\n",
    "        {\"role\": \"system\", \"content\": p1},\n",
    "        {\"role\": \"user\", \"content\": \"Abstract:\\n\\n\"+abstract + \"\\n\\nResponse:\"},\n",
    "    ]\n",
    "    response = pl(messages, max_new_tokens=1000)\n",
    "    return response[0][\"generated_text\"]"
   ]
  },
  {
   "cell_type": "code",
   "execution_count": 33,
   "metadata": {},
   "outputs": [
    {
     "name": "stdout",
     "output_type": "stream",
     "text": [
      "Objetivo . Analizar la asociación de competencias cognitivas en sujetos con hipoacusia unilateral severa versus sujetos con audición normal . Métodos . Participaron 40 adultos ; 20 pacientes , 10 de cada género , con hipoacusia unilateral sensorial severa y 20 sujetos sanos pareados al grupo de estudio . Las habilidades cognitivas se midieron con la batería Woodcock Muñoz - revisada y los procesos centrales auditivos con pruebas psicoacústicas monoaurales . Se realizaron gráficas de caja y prueba t de Student para muestras relacionadas con significación p ≤ 0 , 05 . Resultados . Al comparar el desempeño en las pruebas palabra filtrada y bisílabos comprimidos , se encontró diferencia estadísticamente significativa p ≤ 0 , 05 , con mayor variabilidad de respuesta en los hipoacúsicos , los cuales también tuvieron mejor desempeño cognitivo en las subpruebas inversión de números , aprendizaje visual auditivo , análisis y síntesis , formación de conceptos y palabras incompletas . Conclusiones . Los hipoacúsicos presentaron bajo desempeño en palabra filtrada y bisílabos comprimidos , y mayor habilidad para memoria , razonamiento y procesamiento auditivo . Es importante realizar pruebas complementarias , tales como procesos centrales auditivos y habilidades cognitivas que permitan establecer estrategias de habilitación , rehabilitación y terapéuticas con la finalidad de optimizar y estimular las habilidades de los sujetos con hipoacusia unilateral . \n"
     ]
    }
   ],
   "source": [
    "print(\" \".join(train_es[1][\"tokens\"]))"
   ]
  },
  {
   "cell_type": "code",
   "execution_count": 29,
   "metadata": {},
   "outputs": [
    {
     "data": {
      "text/plain": [
       "\"<think>\\nAlright, let's tackle this problem step by step. First, I need to understand what the user is asking for. They want me to identify disabilities present in medical abstracts. A disability is defined as a physical or mental condition that limits movements, senses, or activities. The user provided an example where they identified ADHD as a disability based on the abstract.\\n\\nSo, the task is to go through each medical abstract, carefully read it, and list out any disabilities mentioned. If there are multiple instances of the same disability, I should include them all. If I can't find any, I should respond with 'No disabilities identified.'\\n\\nGiven that the abstracts are related to rare diseases, I should focus on medical terminology. I'll need to be familiar with terms like ADHD, which is a specific learning disability, or other conditions like diabetes, hypertension, or kidney disease.\\n\\nI'll start by reading the abstract carefully. I'll pay attention to any medical terms, diagnoses, treatments, or conditions mentioned. For each occurrence, I'll note down the condition if it's a disability.\\n\\nIf I encounter terms that don't fit the definition of a disability, I'll skip them. For example, if the abstract talks about a new drug, that's not a disability but a medical intervention.\\n\\nI'll also check if there are any repetitive mentions of the same disability. For instance, if a condition is mentioned more than once, I'll list each occurrence.\\n\\nIf I find that no relevant terms are mentioned, I'll respond with 'No disabilities identified.'\\n\\nLet me proceed to analyze the abstract provided.\\n\\n[Proceeds to analyze the abstract, identifying any medical terms related to disabilities and listing them accordingly.]\\n</think>\\n\\nattention deficit hyperactivity disorder\\nADHD\\nhypothyroidism\\nhypertension\\nhyperlipidemia\\nhypersensitivity\\nhypochoke\\nhyperthyroidism\\nhyperlipidemia\\nhyperlipidemia\""
      ]
     },
     "execution_count": 29,
     "metadata": {},
     "output_type": "execute_result"
    }
   ],
   "source": [
    "generate_response(\" \".join(train_es[1][\"tokens\"]))[-1][\"content\"]"
   ]
  },
  {
   "cell_type": "code",
   "execution_count": 22,
   "metadata": {},
   "outputs": [
    {
     "data": {
      "text/plain": [
       "['Objective',\n",
       " 'To',\n",
       " 'analyse',\n",
       " 'cognitive',\n",
       " 'skills',\n",
       " 'in',\n",
       " 'patients',\n",
       " 'with',\n",
       " 'severe',\n",
       " 'unilateral',\n",
       " 'hearing',\n",
       " 'loss',\n",
       " 'versus',\n",
       " 'those',\n",
       " 'in',\n",
       " 'subjects',\n",
       " 'with',\n",
       " 'normal',\n",
       " 'hearing',\n",
       " '.',\n",
       " 'Methods',\n",
       " '40',\n",
       " 'adults',\n",
       " 'participated',\n",
       " ':',\n",
       " '20',\n",
       " 'patients',\n",
       " '(',\n",
       " '10',\n",
       " 'women',\n",
       " 'and',\n",
       " '10',\n",
       " 'men',\n",
       " ')',\n",
       " 'with',\n",
       " 'severe',\n",
       " 'unilateral',\n",
       " 'hearing',\n",
       " 'loss',\n",
       " 'and',\n",
       " '20',\n",
       " 'healthy',\n",
       " 'subjects',\n",
       " 'matched',\n",
       " 'to',\n",
       " 'the',\n",
       " 'study',\n",
       " 'group',\n",
       " '.',\n",
       " 'Cognitive',\n",
       " 'abilities',\n",
       " 'were',\n",
       " 'measured',\n",
       " 'with',\n",
       " 'the',\n",
       " 'Spanish',\n",
       " 'version',\n",
       " 'of',\n",
       " 'the',\n",
       " 'Woodcock',\n",
       " 'Johnson',\n",
       " 'Battery',\n",
       " '-',\n",
       " 'Revised',\n",
       " ';',\n",
       " 'central',\n",
       " 'auditory',\n",
       " 'processing',\n",
       " 'was',\n",
       " 'assessed',\n",
       " 'with',\n",
       " 'monaural',\n",
       " 'psychoacoustic',\n",
       " 'tests',\n",
       " '.',\n",
       " 'Box',\n",
       " 'plots',\n",
       " 'were',\n",
       " 'drawn',\n",
       " 'and',\n",
       " 't',\n",
       " 'tests',\n",
       " 'were',\n",
       " 'performed',\n",
       " 'for',\n",
       " 'samples',\n",
       " 'with',\n",
       " 'a',\n",
       " 'significance',\n",
       " 'of',\n",
       " 'P≤',\n",
       " '.05',\n",
       " '.',\n",
       " 'Results',\n",
       " 'A',\n",
       " 'comparison',\n",
       " 'of',\n",
       " 'performances',\n",
       " 'on',\n",
       " 'the',\n",
       " 'filtered',\n",
       " 'word',\n",
       " 'testing',\n",
       " 'and',\n",
       " 'time',\n",
       " '-',\n",
       " 'compressed',\n",
       " 'disyllabic',\n",
       " 'word',\n",
       " 'tests',\n",
       " 'between',\n",
       " 'patients',\n",
       " 'and',\n",
       " 'controls',\n",
       " 'revealed',\n",
       " 'a',\n",
       " 'statistically',\n",
       " 'significant',\n",
       " 'difference',\n",
       " '(',\n",
       " 'P≤',\n",
       " '.05',\n",
       " ')',\n",
       " 'with',\n",
       " 'greater',\n",
       " 'variability',\n",
       " 'among',\n",
       " 'responses',\n",
       " 'by',\n",
       " 'hearing',\n",
       " 'impaired',\n",
       " 'subjects',\n",
       " '.',\n",
       " 'This',\n",
       " 'same',\n",
       " 'group',\n",
       " 'also',\n",
       " 'showed',\n",
       " 'a',\n",
       " 'better',\n",
       " 'cognitive',\n",
       " 'performance',\n",
       " 'on',\n",
       " 'the',\n",
       " 'numbers',\n",
       " 'reversed',\n",
       " ',',\n",
       " 'visual',\n",
       " 'auditory',\n",
       " 'learning',\n",
       " ',',\n",
       " 'analysis',\n",
       " 'synthesis',\n",
       " ',',\n",
       " 'concept',\n",
       " 'formation',\n",
       " ',',\n",
       " 'and',\n",
       " 'incomplete',\n",
       " 'words',\n",
       " 'tests',\n",
       " '.',\n",
       " 'Conclusions',\n",
       " 'Patients',\n",
       " 'with',\n",
       " 'hearing',\n",
       " 'loss',\n",
       " 'performed',\n",
       " 'more',\n",
       " 'poorly',\n",
       " 'than',\n",
       " 'controls',\n",
       " 'on',\n",
       " 'the',\n",
       " 'filtered',\n",
       " 'word',\n",
       " 'and',\n",
       " 'time',\n",
       " '-',\n",
       " 'compressed',\n",
       " 'disyllabic',\n",
       " 'word',\n",
       " 'tests',\n",
       " ',',\n",
       " 'but',\n",
       " 'more',\n",
       " 'competently',\n",
       " 'on',\n",
       " 'memory',\n",
       " ',',\n",
       " 'reasoning',\n",
       " ',',\n",
       " 'and',\n",
       " 'auditory',\n",
       " 'processing',\n",
       " 'tasks',\n",
       " '.',\n",
       " 'Complementary',\n",
       " 'tests',\n",
       " ',',\n",
       " 'such',\n",
       " 'as',\n",
       " 'those',\n",
       " 'assessing',\n",
       " 'central',\n",
       " 'auditory',\n",
       " 'processes',\n",
       " 'and',\n",
       " 'cognitive',\n",
       " 'ability',\n",
       " 'tests',\n",
       " ',',\n",
       " 'are',\n",
       " 'important',\n",
       " 'and',\n",
       " 'helpful',\n",
       " 'for',\n",
       " 'designing',\n",
       " 'habilitation/rehabilitation',\n",
       " 'and',\n",
       " 'therapeutic',\n",
       " 'strategies',\n",
       " 'intended',\n",
       " 'to',\n",
       " 'optimise',\n",
       " 'and',\n",
       " 'stimulate',\n",
       " 'cognitive',\n",
       " 'skills',\n",
       " 'in',\n",
       " 'subjects',\n",
       " 'with',\n",
       " 'unilateral',\n",
       " 'hearing',\n",
       " 'impairment',\n",
       " '.']"
      ]
     },
     "execution_count": 22,
     "metadata": {},
     "output_type": "execute_result"
    }
   ],
   "source": [
    "train_en[1][\"tokens\"]"
   ]
  },
  {
   "cell_type": "code",
   "execution_count": 25,
   "metadata": {},
   "outputs": [
    {
     "data": {
      "text/plain": [
       "[('hipoacusia', 'B-DIS'),\n",
       " ('unilateral', 'I-DIS'),\n",
       " ('severa', 'I-DIS'),\n",
       " ('hipoacusia', 'B-DIS'),\n",
       " ('unilateral', 'I-DIS'),\n",
       " ('sensorial', 'I-DIS'),\n",
       " ('severa', 'I-DIS'),\n",
       " ('hipoacúsicos', 'B-DIS'),\n",
       " ('hipoacúsicos', 'B-DIS'),\n",
       " ('hipoacusia', 'B-DIS'),\n",
       " ('unilateral', 'I-DIS')]"
      ]
     },
     "execution_count": 25,
     "metadata": {},
     "output_type": "execute_result"
    }
   ],
   "source": [
    "pairs = list(zip(train_es[1][\"tokens\"], train_es[1][\"value\"]))\n",
    "\n",
    "[x for x in pairs if x[1] != \"O\"]"
   ]
  }
 ],
 "metadata": {
  "kernelspec": {
   "display_name": "Python 3",
   "language": "python",
   "name": "python3"
  },
  "language_info": {
   "codemirror_mode": {
    "name": "ipython",
    "version": 3
   },
   "file_extension": ".py",
   "mimetype": "text/x-python",
   "name": "python",
   "nbconvert_exporter": "python",
   "pygments_lexer": "ipython3",
   "version": "3.10.13"
  }
 },
 "nbformat": 4,
 "nbformat_minor": 2
}
